{
  "cells": [
    {
      "cell_type": "markdown",
      "source": [
        "[![Open In Colab](https://colab.research.google.com/assets/colab-badge.svg)](https://colab.research.google.com/github/nils-holmberg/emfdscore/blob/master/eMFDscore_Tutorial_scom.ipynb)"
      ],
      "metadata": {
        "id": "6WeyKy3L9eGT"
      }
    },
    {
      "cell_type": "markdown",
      "metadata": {
        "id": "szLcNiRTfIML"
      },
      "source": [
        "# eMFDscore Tutorial"
      ]
    },
    {
      "cell_type": "markdown",
      "metadata": {
        "id": "D5EWcM8MfIMM"
      },
      "source": [
        "© Media Neuroscience Lab  \n",
        "October 2020"
      ]
    },
    {
      "cell_type": "markdown",
      "metadata": {
        "id": "VBUM4g9HfIMN"
      },
      "source": [
        "***"
      ]
    },
    {
      "cell_type": "markdown",
      "metadata": {
        "id": "SWDDVhQufIMN"
      },
      "source": [
        "This notebook provides a tutorial on how to use eMFDScore for extracing various moral information metrics from texutal input.  \n",
        "Specifically, this tutorial guides the reader how to effectively use the eMFDScore tool either on the command line (for MACOS and Linux) and in Python (for Windows, MACOS, and Linux).  \n",
        "In addition, this tutorial also demonstrates which scoring options are appropriate for particular tasks.  \n",
        "For more detailed background information on the eMFD, please consult the respective [publication](https://link.springer.com/article/10.3758/s13428-020-01433-0).\n",
        "\n",
        "Finally, when using eMFDscore, please consider \"starring\" the Github repository and citing the follwing article:\n",
        "\n",
        "Hopp, F. R., Fisher, J. T., Cornell, D., Huskey, R., & Weber, R. (2020). The extended Moral Foundations Dictionary (eMFD):  \n",
        "Development and applications of a crowd-sourced approach to extracting moral intuitions from text.   \n",
        "_Behavior Research Methods_, https://doi.org/10.3758/s13428-020-01433-0"
      ]
    },
    {
      "cell_type": "markdown",
      "metadata": {
        "id": "K2T_KUiofIMO"
      },
      "source": [
        "***"
      ]
    },
    {
      "cell_type": "markdown",
      "metadata": {
        "id": "3JOY39ZJfIMO"
      },
      "source": [
        "To interactively run this tutorial, you should clone the eMFDscore github repository and follow the install instructions below."
      ]
    },
    {
      "cell_type": "markdown",
      "metadata": {
        "id": "GsTQ8w3lfIMP"
      },
      "source": [
        "## 1. Set-up Your Environment"
      ]
    },
    {
      "cell_type": "markdown",
      "metadata": {
        "id": "xoFEQl5cfIMP"
      },
      "source": [
        "eMFDscore requires a Python installation (v3.7+). If your machine does not have Python installed,  \n",
        "we recommend installing Python by downloading and installing either Anaconda or Miniconda for your OS.\n",
        "\n",
        "For best practises, we recommend installing eMFDscore into a virtual conda environment.  \n",
        "Hence, you should first create a virtual environment by executing the following command in your terminal:\n",
        "\n",
        "`$ conda create -n emfd python=3.7`\n",
        "\n",
        "Once Anaconda/Miniconda is installed activate the env via:\n",
        "\n",
        "`$ source activate emfd`\n",
        "\n",
        "Next, you must install spaCy, which is the main natural language processing backend that eMFDscore is built on:\n",
        "\n",
        "`$ conda install -c conda-forge spacy`  \n",
        "`$ python -m spacy download en_core_web_sm`\n",
        "\n",
        "Finally, you can install eMFDscore by copying, pasting, and executing the following command:\n",
        "\n",
        "`pip install https://github.com/medianeuroscience/emfdscore/archive/master.zip`\n",
        "\n",
        "In addition, if you plan to run eMFDscore in an interactive python environment (IPython) or using jupyter notebooks, we encourage you to install jupyter-lab into the eMFD environment:  \n",
        "`conda install -c conda-forge jupyterlab`\n",
        "\n"
      ]
    },
    {
      "cell_type": "markdown",
      "metadata": {
        "id": "Xj0xeH2NfIMP"
      },
      "source": [
        "## 2. Using eMFDScore"
      ]
    },
    {
      "cell_type": "markdown",
      "metadata": {
        "id": "IDlAQDwDfIMQ"
      },
      "source": [
        "eMFDScore is a versatile tool that can either be run using the command line or directly from Python.  \n",
        "Note that if you are on a **Windows** machine, you must run eMFDscore from a Python environment.\n",
        "\n",
        "In this tutorial, we will load a few packages to inspect the output of eMFDScore's computed metrics.  \n",
        "These packages must be installed/available in your conda environment, but are not necessary for  \n",
        "eMFDscore to run properly."
      ]
    },
    {
      "cell_type": "code",
      "source": [
        "#!pip install https://github.com/medianeuroscience/emfdscore/archive/master.zip\n",
        "#!pip install https://github.com/nils-holmberg/emfdscore/archive/master.zip"
      ],
      "metadata": {
        "colab": {
          "base_uri": "https://localhost:8080/",
          "height": 569
        },
        "id": "J7_1CEDXfamp",
        "outputId": "20e5f0d8-aeea-42e0-808e-3564e49d0bdf"
      },
      "execution_count": 5,
      "outputs": [
        {
          "output_type": "stream",
          "name": "stdout",
          "text": [
            "Collecting https://github.com/nils-holmberg/emfdscore/archive/master.zip\n",
            "  Downloading https://github.com/nils-holmberg/emfdscore/archive/master.zip\n",
            "\u001b[2K     \u001b[32m-\u001b[0m \u001b[32m6.5 MB\u001b[0m \u001b[31m6.2 MB/s\u001b[0m \u001b[33m0:00:01\u001b[0m\n",
            "\u001b[?25h  Preparing metadata (setup.py) ... \u001b[?25l\u001b[?25hdone\n",
            "Requirement already satisfied: pandas in /usr/local/lib/python3.10/dist-packages (from emfdscore==0.0.1) (2.0.3)\n",
            "Requirement already satisfied: progressbar2 in /usr/local/lib/python3.10/dist-packages (from emfdscore==0.0.1) (4.2.0)\n",
            "Requirement already satisfied: nltk in /usr/local/lib/python3.10/dist-packages (from emfdscore==0.0.1) (3.8.1)\n",
            "Requirement already satisfied: numpy in /usr/local/lib/python3.10/dist-packages (from emfdscore==0.0.1) (1.25.2)\n",
            "Requirement already satisfied: click in /usr/local/lib/python3.10/dist-packages (from nltk->emfdscore==0.0.1) (8.1.7)\n",
            "Requirement already satisfied: joblib in /usr/local/lib/python3.10/dist-packages (from nltk->emfdscore==0.0.1) (1.3.2)\n",
            "Requirement already satisfied: regex>=2021.8.3 in /usr/local/lib/python3.10/dist-packages (from nltk->emfdscore==0.0.1) (2023.12.25)\n",
            "Requirement already satisfied: tqdm in /usr/local/lib/python3.10/dist-packages (from nltk->emfdscore==0.0.1) (4.66.2)\n",
            "Requirement already satisfied: python-dateutil>=2.8.2 in /usr/local/lib/python3.10/dist-packages (from pandas->emfdscore==0.0.1) (2.8.2)\n",
            "Requirement already satisfied: pytz>=2020.1 in /usr/local/lib/python3.10/dist-packages (from pandas->emfdscore==0.0.1) (2023.4)\n",
            "Requirement already satisfied: tzdata>=2022.1 in /usr/local/lib/python3.10/dist-packages (from pandas->emfdscore==0.0.1) (2024.1)\n",
            "Requirement already satisfied: python-utils>=3.0.0 in /usr/local/lib/python3.10/dist-packages (from progressbar2->emfdscore==0.0.1) (3.8.2)\n",
            "Requirement already satisfied: six>=1.5 in /usr/local/lib/python3.10/dist-packages (from python-dateutil>=2.8.2->pandas->emfdscore==0.0.1) (1.16.0)\n",
            "Requirement already satisfied: typing-extensions>3.10.0.2 in /usr/local/lib/python3.10/dist-packages (from python-utils>=3.0.0->progressbar2->emfdscore==0.0.1) (4.10.0)\n",
            "Building wheels for collected packages: emfdscore\n",
            "  Building wheel for emfdscore (setup.py) ... \u001b[?25l\u001b[?25hdone\n",
            "  Created wheel for emfdscore: filename=emfdscore-0.0.1-py3-none-any.whl size=1499078 sha256=e82585f0d883646980117bc05a18d0dbcd8d7eb3ab650386261759273afc8c3b\n",
            "  Stored in directory: /tmp/pip-ephem-wheel-cache-g0tdvz19/wheels/b6/91/e1/ad6bd9c420b5b38ccaadae7060c4b04c793300a8c4b8cb74c0\n",
            "Successfully built emfdscore\n",
            "Installing collected packages: emfdscore\n",
            "Successfully installed emfdscore-0.0.1\n"
          ]
        },
        {
          "output_type": "display_data",
          "data": {
            "application/vnd.colab-display-data+json": {
              "pip_warning": {
                "packages": [
                  "emfdscore"
                ]
              },
              "id": "ac8dce26bb7a4085b64d7aa6a590a63e"
            }
          },
          "metadata": {}
        }
      ]
    },
    {
      "cell_type": "code",
      "source": [
        "!pip install -U pip setuptools wheel\n",
        "!pip uninstall spacy -y\n"
      ],
      "metadata": {
        "colab": {
          "base_uri": "https://localhost:8080/",
          "height": 1000
        },
        "id": "wMPPDKRC7rm6",
        "outputId": "b2d77a55-c41a-45fd-f1f0-cb55ff9a1211"
      },
      "execution_count": 1,
      "outputs": [
        {
          "output_type": "stream",
          "name": "stdout",
          "text": [
            "Requirement already satisfied: pip in /usr/local/lib/python3.10/dist-packages (23.1.2)\n",
            "Collecting pip\n",
            "  Downloading pip-24.0-py3-none-any.whl (2.1 MB)\n",
            "\u001b[2K     \u001b[90m━━━━━━━━━━━━━━━━━━━━━━━━━━━━━━━━━━━━━━━━\u001b[0m \u001b[32m2.1/2.1 MB\u001b[0m \u001b[31m15.0 MB/s\u001b[0m eta \u001b[36m0:00:00\u001b[0m\n",
            "\u001b[?25hRequirement already satisfied: setuptools in /usr/local/lib/python3.10/dist-packages (67.7.2)\n",
            "Collecting setuptools\n",
            "  Downloading setuptools-69.2.0-py3-none-any.whl (821 kB)\n",
            "\u001b[2K     \u001b[90m━━━━━━━━━━━━━━━━━━━━━━━━━━━━━━━━━━━━━━━━\u001b[0m \u001b[32m821.5/821.5 kB\u001b[0m \u001b[31m22.5 MB/s\u001b[0m eta \u001b[36m0:00:00\u001b[0m\n",
            "\u001b[?25hRequirement already satisfied: wheel in /usr/local/lib/python3.10/dist-packages (0.43.0)\n",
            "Installing collected packages: setuptools, pip\n",
            "  Attempting uninstall: setuptools\n",
            "    Found existing installation: setuptools 67.7.2\n",
            "    Uninstalling setuptools-67.7.2:\n",
            "      Successfully uninstalled setuptools-67.7.2\n",
            "  Attempting uninstall: pip\n",
            "    Found existing installation: pip 23.1.2\n",
            "    Uninstalling pip-23.1.2:\n",
            "      Successfully uninstalled pip-23.1.2\n",
            "\u001b[31mERROR: pip's dependency resolver does not currently take into account all the packages that are installed. This behaviour is the source of the following dependency conflicts.\n",
            "ipython 7.34.0 requires jedi>=0.16, which is not installed.\u001b[0m\u001b[31m\n",
            "\u001b[0mSuccessfully installed pip-24.0 setuptools-69.2.0\n"
          ]
        },
        {
          "output_type": "display_data",
          "data": {
            "application/vnd.colab-display-data+json": {
              "pip_warning": {
                "packages": [
                  "_distutils_hack",
                  "pkg_resources",
                  "setuptools"
                ]
              },
              "id": "8a63bb6fe7094ad4ab3d56ecd254b6d1"
            }
          },
          "metadata": {}
        },
        {
          "output_type": "stream",
          "name": "stdout",
          "text": [
            "Found existing installation: spacy 3.7.4\n",
            "Uninstalling spacy-3.7.4:\n",
            "  Successfully uninstalled spacy-3.7.4\n",
            "\u001b[33mWARNING: Running pip as the 'root' user can result in broken permissions and conflicting behaviour with the system package manager. It is recommended to use a virtual environment instead: https://pip.pypa.io/warnings/venv\u001b[0m\u001b[33m\n",
            "\u001b[0mTraceback (most recent call last):\n",
            "  File \"/usr/local/bin/pip\", line 5, in <module>\n",
            "    from pip._internal.cli.main import main\n",
            "  File \"/usr/local/lib/python3.10/dist-packages/pip/_internal/cli/main.py\", line 10, in <module>\n",
            "    from pip._internal.cli.autocompletion import autocomplete\n",
            "  File \"/usr/local/lib/python3.10/dist-packages/pip/_internal/cli/autocompletion.py\", line 10, in <module>\n",
            "    from pip._internal.cli.main_parser import create_main_parser\n",
            "  File \"/usr/local/lib/python3.10/dist-packages/pip/_internal/cli/main_parser.py\", line 9, in <module>\n",
            "    from pip._internal.build_env import get_runnable_pip\n",
            "  File \"/usr/local/lib/python3.10/dist-packages/pip/_internal/build_env.py\", line 19, in <module>\n",
            "    from pip._internal.cli.spinners import open_spinner\n",
            "  File \"/usr/local/lib/python3.10/dist-packages/pip/_internal/cli/spinners.py\", line 9, in <module>\n",
            "    from pip._internal.utils.logging import get_indentation\n",
            "  File \"/usr/local/lib/python3.10/dist-packages/pip/_internal/utils/logging.py\", line 22, in <module>\n",
            "    from pip._vendor.rich.logging import RichHandler\n",
            "  File \"/usr/local/lib/python3.10/dist-packages/pip/_vendor/rich/logging.py\", line 15, in <module>\n",
            "    from .traceback import Traceback\n",
            "  File \"/usr/local/lib/python3.10/dist-packages/pip/_vendor/rich/traceback.py\", line 23, in <module>\n",
            "    from pip._vendor.pygments.lexers import guess_lexer_for_filename\n",
            "  File \"/usr/local/lib/python3.10/dist-packages/pip/_vendor/pygments/lexers/__init__.py\", line 17, in <module>\n",
            "    from pip._vendor.pygments.lexers._mapping import LEXERS\n",
            "  File \"<frozen importlib._bootstrap>\", line 1027, in _find_and_load\n",
            "  File \"<frozen importlib._bootstrap>\", line 1006, in _find_and_load_unlocked\n",
            "  File \"<frozen importlib._bootstrap>\", line 688, in _load_unlocked\n",
            "  File \"<frozen importlib._bootstrap_external>\", line 879, in exec_module\n",
            "  File \"<frozen importlib._bootstrap_external>\", line 1012, in get_code\n",
            "  File \"<frozen importlib._bootstrap_external>\", line 672, in _compile_bytecode\n",
            "KeyboardInterrupt\n",
            "^C\n",
            "/usr/bin/python3: No module named spacy\n"
          ]
        }
      ]
    },
    {
      "cell_type": "code",
      "source": [
        "!pip install -U spacy==3.4.0\n",
        "#!pip install -U spacy\n",
        "!python -m spacy download en_core_web_sm\n",
        "\n",
        "import spacy\n",
        "print(\"spaCy version:\", spacy.__version__)\n",
        "\n",
        "#make sure this is spacy 3.4.0 otherwise won't work!"
      ],
      "metadata": {
        "colab": {
          "base_uri": "https://localhost:8080/"
        },
        "id": "9IPXG_6g8Fie",
        "outputId": "29aff1c9-a49b-4af2-ce09-a7d50e628db3"
      },
      "execution_count": 2,
      "outputs": [
        {
          "output_type": "stream",
          "name": "stdout",
          "text": [
            "Collecting spacy==3.4.0\n",
            "  Downloading spacy-3.4.0-cp310-cp310-manylinux_2_17_x86_64.manylinux2014_x86_64.whl.metadata (24 kB)\n",
            "Requirement already satisfied: spacy-legacy<3.1.0,>=3.0.9 in /usr/local/lib/python3.10/dist-packages (from spacy==3.4.0) (3.0.12)\n",
            "Requirement already satisfied: spacy-loggers<2.0.0,>=1.0.0 in /usr/local/lib/python3.10/dist-packages (from spacy==3.4.0) (1.0.5)\n",
            "Requirement already satisfied: murmurhash<1.1.0,>=0.28.0 in /usr/local/lib/python3.10/dist-packages (from spacy==3.4.0) (1.0.10)\n",
            "Requirement already satisfied: cymem<2.1.0,>=2.0.2 in /usr/local/lib/python3.10/dist-packages (from spacy==3.4.0) (2.0.8)\n",
            "Requirement already satisfied: preshed<3.1.0,>=3.0.2 in /usr/local/lib/python3.10/dist-packages (from spacy==3.4.0) (3.0.9)\n",
            "Collecting thinc<8.2.0,>=8.1.0 (from spacy==3.4.0)\n",
            "  Downloading thinc-8.1.12-cp310-cp310-manylinux_2_17_x86_64.manylinux2014_x86_64.whl.metadata (15 kB)\n",
            "Collecting wasabi<1.1.0,>=0.9.1 (from spacy==3.4.0)\n",
            "  Downloading wasabi-0.10.1-py3-none-any.whl.metadata (28 kB)\n",
            "Requirement already satisfied: srsly<3.0.0,>=2.4.3 in /usr/local/lib/python3.10/dist-packages (from spacy==3.4.0) (2.4.8)\n",
            "Requirement already satisfied: catalogue<2.1.0,>=2.0.6 in /usr/local/lib/python3.10/dist-packages (from spacy==3.4.0) (2.0.10)\n",
            "Collecting typer<0.5.0,>=0.3.0 (from spacy==3.4.0)\n",
            "  Downloading typer-0.4.2-py3-none-any.whl.metadata (12 kB)\n",
            "Collecting pathy>=0.3.5 (from spacy==3.4.0)\n",
            "  Downloading pathy-0.11.0-py3-none-any.whl.metadata (16 kB)\n",
            "Requirement already satisfied: tqdm<5.0.0,>=4.38.0 in /usr/local/lib/python3.10/dist-packages (from spacy==3.4.0) (4.66.2)\n",
            "Requirement already satisfied: numpy>=1.15.0 in /usr/local/lib/python3.10/dist-packages (from spacy==3.4.0) (1.25.2)\n",
            "Requirement already satisfied: requests<3.0.0,>=2.13.0 in /usr/local/lib/python3.10/dist-packages (from spacy==3.4.0) (2.31.0)\n",
            "Collecting pydantic!=1.8,!=1.8.1,<1.10.0,>=1.7.4 (from spacy==3.4.0)\n",
            "  Downloading pydantic-1.9.2-cp310-cp310-manylinux_2_17_x86_64.manylinux2014_x86_64.whl.metadata (127 kB)\n",
            "\u001b[2K     \u001b[90m━━━━━━━━━━━━━━━━━━━━━━━━━━━━━━━━━━━━━━━━\u001b[0m \u001b[32m127.1/127.1 kB\u001b[0m \u001b[31m6.7 MB/s\u001b[0m eta \u001b[36m0:00:00\u001b[0m\n",
            "\u001b[?25hRequirement already satisfied: jinja2 in /usr/local/lib/python3.10/dist-packages (from spacy==3.4.0) (3.1.3)\n",
            "Requirement already satisfied: setuptools in /usr/local/lib/python3.10/dist-packages (from spacy==3.4.0) (69.2.0)\n",
            "Requirement already satisfied: packaging>=20.0 in /usr/local/lib/python3.10/dist-packages (from spacy==3.4.0) (24.0)\n",
            "Requirement already satisfied: langcodes<4.0.0,>=3.2.0 in /usr/local/lib/python3.10/dist-packages (from spacy==3.4.0) (3.3.0)\n",
            "Requirement already satisfied: smart-open<7.0.0,>=5.2.1 in /usr/local/lib/python3.10/dist-packages (from pathy>=0.3.5->spacy==3.4.0) (6.4.0)\n",
            "Collecting pathlib-abc==0.1.1 (from pathy>=0.3.5->spacy==3.4.0)\n",
            "  Downloading pathlib_abc-0.1.1-py3-none-any.whl.metadata (18 kB)\n",
            "Requirement already satisfied: typing-extensions>=3.7.4.3 in /usr/local/lib/python3.10/dist-packages (from pydantic!=1.8,!=1.8.1,<1.10.0,>=1.7.4->spacy==3.4.0) (4.10.0)\n",
            "Requirement already satisfied: charset-normalizer<4,>=2 in /usr/local/lib/python3.10/dist-packages (from requests<3.0.0,>=2.13.0->spacy==3.4.0) (3.3.2)\n",
            "Requirement already satisfied: idna<4,>=2.5 in /usr/local/lib/python3.10/dist-packages (from requests<3.0.0,>=2.13.0->spacy==3.4.0) (3.6)\n",
            "Requirement already satisfied: urllib3<3,>=1.21.1 in /usr/local/lib/python3.10/dist-packages (from requests<3.0.0,>=2.13.0->spacy==3.4.0) (2.0.7)\n",
            "Requirement already satisfied: certifi>=2017.4.17 in /usr/local/lib/python3.10/dist-packages (from requests<3.0.0,>=2.13.0->spacy==3.4.0) (2024.2.2)\n",
            "Requirement already satisfied: blis<0.8.0,>=0.7.8 in /usr/local/lib/python3.10/dist-packages (from thinc<8.2.0,>=8.1.0->spacy==3.4.0) (0.7.11)\n",
            "Requirement already satisfied: confection<1.0.0,>=0.0.1 in /usr/local/lib/python3.10/dist-packages (from thinc<8.2.0,>=8.1.0->spacy==3.4.0) (0.1.4)\n",
            "Requirement already satisfied: click<9.0.0,>=7.1.1 in /usr/local/lib/python3.10/dist-packages (from typer<0.5.0,>=0.3.0->spacy==3.4.0) (8.1.7)\n",
            "Requirement already satisfied: MarkupSafe>=2.0 in /usr/local/lib/python3.10/dist-packages (from jinja2->spacy==3.4.0) (2.1.5)\n",
            "Downloading spacy-3.4.0-cp310-cp310-manylinux_2_17_x86_64.manylinux2014_x86_64.whl (6.4 MB)\n",
            "\u001b[2K   \u001b[90m━━━━━━━━━━━━━━━━━━━━━━━━━━━━━━━━━━━━━━━━\u001b[0m \u001b[32m6.4/6.4 MB\u001b[0m \u001b[31m67.7 MB/s\u001b[0m eta \u001b[36m0:00:00\u001b[0m\n",
            "\u001b[?25hDownloading pathy-0.11.0-py3-none-any.whl (47 kB)\n",
            "\u001b[2K   \u001b[90m━━━━━━━━━━━━━━━━━━━━━━━━━━━━━━━━━━━━━━━━\u001b[0m \u001b[32m47.3/47.3 kB\u001b[0m \u001b[31m3.1 MB/s\u001b[0m eta \u001b[36m0:00:00\u001b[0m\n",
            "\u001b[?25hDownloading pathlib_abc-0.1.1-py3-none-any.whl (23 kB)\n",
            "Downloading pydantic-1.9.2-cp310-cp310-manylinux_2_17_x86_64.manylinux2014_x86_64.whl (12.0 MB)\n",
            "\u001b[2K   \u001b[90m━━━━━━━━━━━━━━━━━━━━━━━━━━━━━━━━━━━━━━━━\u001b[0m \u001b[32m12.0/12.0 MB\u001b[0m \u001b[31m81.1 MB/s\u001b[0m eta \u001b[36m0:00:00\u001b[0m\n",
            "\u001b[?25hDownloading thinc-8.1.12-cp310-cp310-manylinux_2_17_x86_64.manylinux2014_x86_64.whl (919 kB)\n",
            "\u001b[2K   \u001b[90m━━━━━━━━━━━━━━━━━━━━━━━━━━━━━━━━━━━━━━━━\u001b[0m \u001b[32m919.6/919.6 kB\u001b[0m \u001b[31m40.2 MB/s\u001b[0m eta \u001b[36m0:00:00\u001b[0m\n",
            "\u001b[?25hDownloading typer-0.4.2-py3-none-any.whl (27 kB)\n",
            "Downloading wasabi-0.10.1-py3-none-any.whl (26 kB)\n",
            "Installing collected packages: wasabi, typer, pydantic, pathlib-abc, pathy, thinc, spacy\n",
            "  Attempting uninstall: wasabi\n",
            "    Found existing installation: wasabi 1.1.2\n",
            "    Uninstalling wasabi-1.1.2:\n",
            "      Successfully uninstalled wasabi-1.1.2\n",
            "  Attempting uninstall: typer\n",
            "    Found existing installation: typer 0.9.4\n",
            "    Uninstalling typer-0.9.4:\n",
            "      Successfully uninstalled typer-0.9.4\n",
            "  Attempting uninstall: pydantic\n",
            "    Found existing installation: pydantic 2.6.4\n",
            "    Uninstalling pydantic-2.6.4:\n",
            "      Successfully uninstalled pydantic-2.6.4\n",
            "  Attempting uninstall: thinc\n",
            "    Found existing installation: thinc 8.2.3\n",
            "    Uninstalling thinc-8.2.3:\n",
            "      Successfully uninstalled thinc-8.2.3\n",
            "\u001b[31mERROR: pip's dependency resolver does not currently take into account all the packages that are installed. This behaviour is the source of the following dependency conflicts.\n",
            "en-core-web-sm 3.7.1 requires spacy<3.8.0,>=3.7.2, but you have spacy 3.4.0 which is incompatible.\u001b[0m\u001b[31m\n",
            "\u001b[0mSuccessfully installed pathlib-abc-0.1.1 pathy-0.11.0 pydantic-1.9.2 spacy-3.4.0 thinc-8.1.12 typer-0.4.2 wasabi-0.10.1\n",
            "\u001b[33mWARNING: Running pip as the 'root' user can result in broken permissions and conflicting behaviour with the system package manager. It is recommended to use a virtual environment instead: https://pip.pypa.io/warnings/venv\u001b[0m\u001b[33m\n",
            "\u001b[0m2024-04-09 08:20:52.319925: E external/local_xla/xla/stream_executor/cuda/cuda_dnn.cc:9261] Unable to register cuDNN factory: Attempting to register factory for plugin cuDNN when one has already been registered\n",
            "2024-04-09 08:20:52.320003: E external/local_xla/xla/stream_executor/cuda/cuda_fft.cc:607] Unable to register cuFFT factory: Attempting to register factory for plugin cuFFT when one has already been registered\n",
            "2024-04-09 08:20:52.322688: E external/local_xla/xla/stream_executor/cuda/cuda_blas.cc:1515] Unable to register cuBLAS factory: Attempting to register factory for plugin cuBLAS when one has already been registered\n",
            "2024-04-09 08:20:52.335738: I tensorflow/core/platform/cpu_feature_guard.cc:182] This TensorFlow binary is optimized to use available CPU instructions in performance-critical operations.\n",
            "To enable the following instructions: AVX2 FMA, in other operations, rebuild TensorFlow with the appropriate compiler flags.\n",
            "2024-04-09 08:20:54.264051: W tensorflow/compiler/tf2tensorrt/utils/py_utils.cc:38] TF-TRT Warning: Could not find TensorRT\n",
            "\u001b[33mDEPRECATION: https://github.com/explosion/spacy-models/releases/download/en_core_web_sm-3.4.1/en_core_web_sm-3.4.1-py3-none-any.whl#egg=en_core_web_sm==3.4.1 contains an egg fragment with a non-PEP 508 name pip 25.0 will enforce this behaviour change. A possible replacement is to use the req @ url syntax, and remove the egg fragment. Discussion can be found at https://github.com/pypa/pip/issues/11617\u001b[0m\u001b[33m\n",
            "\u001b[0mCollecting en-core-web-sm==3.4.1\n",
            "  Downloading https://github.com/explosion/spacy-models/releases/download/en_core_web_sm-3.4.1/en_core_web_sm-3.4.1-py3-none-any.whl (12.8 MB)\n",
            "\u001b[2K     \u001b[90m━━━━━━━━━━━━━━━━━━━━━━━━━━━━━━━━━━━━━━━━\u001b[0m \u001b[32m12.8/12.8 MB\u001b[0m \u001b[31m37.7 MB/s\u001b[0m eta \u001b[36m0:00:00\u001b[0m\n",
            "\u001b[?25hRequirement already satisfied: spacy<3.5.0,>=3.4.0 in /usr/local/lib/python3.10/dist-packages (from en-core-web-sm==3.4.1) (3.4.0)\n",
            "Requirement already satisfied: spacy-legacy<3.1.0,>=3.0.9 in /usr/local/lib/python3.10/dist-packages (from spacy<3.5.0,>=3.4.0->en-core-web-sm==3.4.1) (3.0.12)\n",
            "Requirement already satisfied: spacy-loggers<2.0.0,>=1.0.0 in /usr/local/lib/python3.10/dist-packages (from spacy<3.5.0,>=3.4.0->en-core-web-sm==3.4.1) (1.0.5)\n",
            "Requirement already satisfied: murmurhash<1.1.0,>=0.28.0 in /usr/local/lib/python3.10/dist-packages (from spacy<3.5.0,>=3.4.0->en-core-web-sm==3.4.1) (1.0.10)\n",
            "Requirement already satisfied: cymem<2.1.0,>=2.0.2 in /usr/local/lib/python3.10/dist-packages (from spacy<3.5.0,>=3.4.0->en-core-web-sm==3.4.1) (2.0.8)\n",
            "Requirement already satisfied: preshed<3.1.0,>=3.0.2 in /usr/local/lib/python3.10/dist-packages (from spacy<3.5.0,>=3.4.0->en-core-web-sm==3.4.1) (3.0.9)\n",
            "Requirement already satisfied: thinc<8.2.0,>=8.1.0 in /usr/local/lib/python3.10/dist-packages (from spacy<3.5.0,>=3.4.0->en-core-web-sm==3.4.1) (8.1.12)\n",
            "Requirement already satisfied: wasabi<1.1.0,>=0.9.1 in /usr/local/lib/python3.10/dist-packages (from spacy<3.5.0,>=3.4.0->en-core-web-sm==3.4.1) (0.10.1)\n",
            "Requirement already satisfied: srsly<3.0.0,>=2.4.3 in /usr/local/lib/python3.10/dist-packages (from spacy<3.5.0,>=3.4.0->en-core-web-sm==3.4.1) (2.4.8)\n",
            "Requirement already satisfied: catalogue<2.1.0,>=2.0.6 in /usr/local/lib/python3.10/dist-packages (from spacy<3.5.0,>=3.4.0->en-core-web-sm==3.4.1) (2.0.10)\n",
            "Requirement already satisfied: typer<0.5.0,>=0.3.0 in /usr/local/lib/python3.10/dist-packages (from spacy<3.5.0,>=3.4.0->en-core-web-sm==3.4.1) (0.4.2)\n",
            "Requirement already satisfied: pathy>=0.3.5 in /usr/local/lib/python3.10/dist-packages (from spacy<3.5.0,>=3.4.0->en-core-web-sm==3.4.1) (0.11.0)\n",
            "Requirement already satisfied: tqdm<5.0.0,>=4.38.0 in /usr/local/lib/python3.10/dist-packages (from spacy<3.5.0,>=3.4.0->en-core-web-sm==3.4.1) (4.66.2)\n",
            "Requirement already satisfied: numpy>=1.15.0 in /usr/local/lib/python3.10/dist-packages (from spacy<3.5.0,>=3.4.0->en-core-web-sm==3.4.1) (1.25.2)\n",
            "Requirement already satisfied: requests<3.0.0,>=2.13.0 in /usr/local/lib/python3.10/dist-packages (from spacy<3.5.0,>=3.4.0->en-core-web-sm==3.4.1) (2.31.0)\n",
            "Requirement already satisfied: pydantic!=1.8,!=1.8.1,<1.10.0,>=1.7.4 in /usr/local/lib/python3.10/dist-packages (from spacy<3.5.0,>=3.4.0->en-core-web-sm==3.4.1) (1.9.2)\n",
            "Requirement already satisfied: jinja2 in /usr/local/lib/python3.10/dist-packages (from spacy<3.5.0,>=3.4.0->en-core-web-sm==3.4.1) (3.1.3)\n",
            "Requirement already satisfied: setuptools in /usr/local/lib/python3.10/dist-packages (from spacy<3.5.0,>=3.4.0->en-core-web-sm==3.4.1) (69.2.0)\n",
            "Requirement already satisfied: packaging>=20.0 in /usr/local/lib/python3.10/dist-packages (from spacy<3.5.0,>=3.4.0->en-core-web-sm==3.4.1) (24.0)\n",
            "Requirement already satisfied: langcodes<4.0.0,>=3.2.0 in /usr/local/lib/python3.10/dist-packages (from spacy<3.5.0,>=3.4.0->en-core-web-sm==3.4.1) (3.3.0)\n",
            "Requirement already satisfied: smart-open<7.0.0,>=5.2.1 in /usr/local/lib/python3.10/dist-packages (from pathy>=0.3.5->spacy<3.5.0,>=3.4.0->en-core-web-sm==3.4.1) (6.4.0)\n",
            "Requirement already satisfied: pathlib-abc==0.1.1 in /usr/local/lib/python3.10/dist-packages (from pathy>=0.3.5->spacy<3.5.0,>=3.4.0->en-core-web-sm==3.4.1) (0.1.1)\n",
            "Requirement already satisfied: typing-extensions>=3.7.4.3 in /usr/local/lib/python3.10/dist-packages (from pydantic!=1.8,!=1.8.1,<1.10.0,>=1.7.4->spacy<3.5.0,>=3.4.0->en-core-web-sm==3.4.1) (4.10.0)\n",
            "Requirement already satisfied: charset-normalizer<4,>=2 in /usr/local/lib/python3.10/dist-packages (from requests<3.0.0,>=2.13.0->spacy<3.5.0,>=3.4.0->en-core-web-sm==3.4.1) (3.3.2)\n",
            "Requirement already satisfied: idna<4,>=2.5 in /usr/local/lib/python3.10/dist-packages (from requests<3.0.0,>=2.13.0->spacy<3.5.0,>=3.4.0->en-core-web-sm==3.4.1) (3.6)\n",
            "Requirement already satisfied: urllib3<3,>=1.21.1 in /usr/local/lib/python3.10/dist-packages (from requests<3.0.0,>=2.13.0->spacy<3.5.0,>=3.4.0->en-core-web-sm==3.4.1) (2.0.7)\n",
            "Requirement already satisfied: certifi>=2017.4.17 in /usr/local/lib/python3.10/dist-packages (from requests<3.0.0,>=2.13.0->spacy<3.5.0,>=3.4.0->en-core-web-sm==3.4.1) (2024.2.2)\n",
            "Requirement already satisfied: blis<0.8.0,>=0.7.8 in /usr/local/lib/python3.10/dist-packages (from thinc<8.2.0,>=8.1.0->spacy<3.5.0,>=3.4.0->en-core-web-sm==3.4.1) (0.7.11)\n",
            "Requirement already satisfied: confection<1.0.0,>=0.0.1 in /usr/local/lib/python3.10/dist-packages (from thinc<8.2.0,>=8.1.0->spacy<3.5.0,>=3.4.0->en-core-web-sm==3.4.1) (0.1.4)\n",
            "Requirement already satisfied: click<9.0.0,>=7.1.1 in /usr/local/lib/python3.10/dist-packages (from typer<0.5.0,>=0.3.0->spacy<3.5.0,>=3.4.0->en-core-web-sm==3.4.1) (8.1.7)\n",
            "Requirement already satisfied: MarkupSafe>=2.0 in /usr/local/lib/python3.10/dist-packages (from jinja2->spacy<3.5.0,>=3.4.0->en-core-web-sm==3.4.1) (2.1.5)\n",
            "Installing collected packages: en-core-web-sm\n",
            "  Attempting uninstall: en-core-web-sm\n",
            "    Found existing installation: en-core-web-sm 3.7.1\n",
            "    Uninstalling en-core-web-sm-3.7.1:\n",
            "      Successfully uninstalled en-core-web-sm-3.7.1\n",
            "Successfully installed en-core-web-sm-3.4.1\n",
            "\u001b[33mWARNING: Running pip as the 'root' user can result in broken permissions and conflicting behaviour with the system package manager. It is recommended to use a virtual environment instead: https://pip.pypa.io/warnings/venv\u001b[0m\u001b[33m\n",
            "\u001b[0m\u001b[38;5;2m✔ Download and installation successful\u001b[0m\n",
            "You can now load the package via spacy.load('en_core_web_sm')\n",
            "spaCy version: 3.4.0\n"
          ]
        }
      ]
    },
    {
      "cell_type": "code",
      "source": [
        "!pip install git+https://github.com/nils-holmberg/emfdscore.git"
      ],
      "metadata": {
        "colab": {
          "base_uri": "https://localhost:8080/"
        },
        "id": "c7Teq6cE7-JZ",
        "outputId": "c5bcec96-03d2-47a1-9b94-8bc463b20ab1"
      },
      "execution_count": 3,
      "outputs": [
        {
          "output_type": "stream",
          "name": "stdout",
          "text": [
            "Collecting git+https://github.com/nils-holmberg/emfdscore.git\n",
            "  Cloning https://github.com/nils-holmberg/emfdscore.git to /tmp/pip-req-build-z2cm9u9_\n",
            "  Running command git clone --filter=blob:none --quiet https://github.com/nils-holmberg/emfdscore.git /tmp/pip-req-build-z2cm9u9_\n",
            "  Resolved https://github.com/nils-holmberg/emfdscore.git to commit 58f5bf3d71ff7e98a8ff3a96c1000c5bcf522c1b\n",
            "  Preparing metadata (setup.py) ... \u001b[?25l\u001b[?25hdone\n",
            "Requirement already satisfied: pandas in /usr/local/lib/python3.10/dist-packages (from emfdscore==0.0.1) (2.0.3)\n",
            "Requirement already satisfied: progressbar2 in /usr/local/lib/python3.10/dist-packages (from emfdscore==0.0.1) (4.2.0)\n",
            "Requirement already satisfied: nltk in /usr/local/lib/python3.10/dist-packages (from emfdscore==0.0.1) (3.8.1)\n",
            "Requirement already satisfied: numpy in /usr/local/lib/python3.10/dist-packages (from emfdscore==0.0.1) (1.25.2)\n",
            "Requirement already satisfied: click in /usr/local/lib/python3.10/dist-packages (from nltk->emfdscore==0.0.1) (8.1.7)\n",
            "Requirement already satisfied: joblib in /usr/local/lib/python3.10/dist-packages (from nltk->emfdscore==0.0.1) (1.3.2)\n",
            "Requirement already satisfied: regex>=2021.8.3 in /usr/local/lib/python3.10/dist-packages (from nltk->emfdscore==0.0.1) (2023.12.25)\n",
            "Requirement already satisfied: tqdm in /usr/local/lib/python3.10/dist-packages (from nltk->emfdscore==0.0.1) (4.66.2)\n",
            "Requirement already satisfied: python-dateutil>=2.8.2 in /usr/local/lib/python3.10/dist-packages (from pandas->emfdscore==0.0.1) (2.8.2)\n",
            "Requirement already satisfied: pytz>=2020.1 in /usr/local/lib/python3.10/dist-packages (from pandas->emfdscore==0.0.1) (2023.4)\n",
            "Requirement already satisfied: tzdata>=2022.1 in /usr/local/lib/python3.10/dist-packages (from pandas->emfdscore==0.0.1) (2024.1)\n",
            "Requirement already satisfied: python-utils>=3.0.0 in /usr/local/lib/python3.10/dist-packages (from progressbar2->emfdscore==0.0.1) (3.8.2)\n",
            "Requirement already satisfied: six>=1.5 in /usr/local/lib/python3.10/dist-packages (from python-dateutil>=2.8.2->pandas->emfdscore==0.0.1) (1.16.0)\n",
            "Requirement already satisfied: typing-extensions>3.10.0.2 in /usr/local/lib/python3.10/dist-packages (from python-utils>=3.0.0->progressbar2->emfdscore==0.0.1) (4.10.0)\n",
            "Building wheels for collected packages: emfdscore\n",
            "  Building wheel for emfdscore (setup.py) ... \u001b[?25l\u001b[?25hdone\n",
            "  Created wheel for emfdscore: filename=emfdscore-0.0.1-py3-none-any.whl size=1499078 sha256=ba6e8b75ce9cca33652bee95fe39a39bef5b225f0d3cbc3310be71ab32ce1bf9\n",
            "  Stored in directory: /tmp/pip-ephem-wheel-cache-s_ogrkhm/wheels/e5/cb/76/93c22fd6190fe9bbd475e7eeb2d5ee711d825c05c48101d20f\n",
            "Successfully built emfdscore\n",
            "Installing collected packages: emfdscore\n",
            "Successfully installed emfdscore-0.0.1\n",
            "\u001b[33mWARNING: Running pip as the 'root' user can result in broken permissions and conflicting behaviour with the system package manager. It is recommended to use a virtual environment instead: https://pip.pypa.io/warnings/venv\u001b[0m\u001b[33m\n",
            "\u001b[0m"
          ]
        }
      ]
    },
    {
      "cell_type": "code",
      "execution_count": 4,
      "metadata": {
        "id": "YX5eD8VafIMQ"
      },
      "outputs": [],
      "source": [
        "import pandas as pd\n",
        "import numpy as np\n",
        "import seaborn as sns\n",
        "from matplotlib import pyplot as plt"
      ]
    },
    {
      "cell_type": "markdown",
      "metadata": {
        "id": "ruvytEpMfIMR"
      },
      "source": [
        "### Options for Document Scoring"
      ]
    },
    {
      "cell_type": "markdown",
      "metadata": {
        "id": "X0SV3opofIMR"
      },
      "source": [
        "With eMFDScore, you have several options to extract moral information metrics from texutal corpora.   \n",
        "Below, we go over these options one by one.  \n",
        "\n",
        "When scoring documents with the extended Moral Foundations Dicitonary (eMFD; default in eMFDScore),  \n",
        "you must decide how you would like to use the eMFD for scoring textual documents.  \n",
        "\n",
        "As a reminder, in the eMFD, every of the 3020 words is assigned the following scores:\n",
        "- `Foundation Probabilities`: Each word is assigned 5 probabalities that denote the likelihood  \n",
        "that this word is associated with each one of the five moral foundations as identified by Moral  \n",
        "Foundations  Theory. For example, the word \"kill\" has a care probability of 0.4 and  \n",
        "a loyalty probability of 0.24, meaning that there is a 40% chance that a coder highlighted a context in which the word \"kill\" appeared  \n",
        "with the care-harm foundation and a 24% chance that this context was highlighted with the loyalty-betrayal foundation.\n",
        "\n",
        "- `Sentiment Scores`: Each word is assigned 5 sentiment scores that denote the average sentiment  \n",
        "of the foundation context in which this word appeared. For example, the word \"kill\" has an average  \n",
        "\"care_sent\" of -0.69, meaning that all \"care-harm\" highlights in which \"kill\" appeared had an average,  \n",
        "negative sentiment of -0.69.\n",
        "\n",
        "***\n",
        "\n",
        "Based on these scores, there are two options how these scores can be \"mapped\" when scoring a  \n",
        "document (flag `prob_map` below):\n",
        "\n",
        "1. Use `all` probabilities per word in the eMFD (option `all`):  \n",
        "=> Using all five foundation probabilities assumes that each word is used as an indicator for multiple foundations with the probabilities as weights.\n",
        "2. Assign a `single`  probability to each word in the eMFD according to the foundation with the highest  probability (option `single`):  \n",
        "=> Each word only indicates **one** foundation (the one with the highest foundation probability) and each time this word is found  \n",
        "the respective foundation is increased by that word's foundation probability.\n",
        "\n",
        "***\n",
        "\n",
        "In addition, you can decide whether you want eMFDScore to return the average sentiment for each  \n",
        "foundation, or whether you would like eMFDScore to split each foundation  \n",
        "into a `vice` and `virtue`  category (flag `output_metrics` below):\n",
        "\n",
        "1. Return the average `sentiment ` for each foundation (option `sentiment`)\n",
        "2. Split foundations into a `vice-virtue` category (option `vice-virtue`).\n",
        "\n",
        "The vice-virtue split is accomplished by considering the average sentiment of each foundation of each  \n",
        "word, and then assigning this word to \"virtue\" if the foundation sentiment is positive,  \n",
        "or to \"vice\" if the sentiment is negative.  \n",
        "For instance, if using the `all` option for the `prob_map` option above, a word's foundation probabilities  \n",
        "will be translated into five `virtue` scores (e.g., care, fairness,  loyalty, authority, and sanctity)   \n",
        "if the word's sentiment for these foundations is positive, whereas a word  whose sentiments for each  \n",
        "foundation is negative will be assigned five `vice` scores (e.g., harm, cheating,  betrayal, subversion, and degradation).\n",
        "\n",
        "***\n",
        "\n",
        "Based on the above, there is a total of 4 different options how the eMFD can be used.  \n",
        "The specific usage of each and use case is explicated below."
      ]
    },
    {
      "cell_type": "markdown",
      "metadata": {
        "id": "byLiJURCfIMR"
      },
      "source": [
        "#### eMFDScore Command-Line Options"
      ]
    },
    {
      "cell_type": "markdown",
      "metadata": {
        "id": "LWuNFgd9fIMR"
      },
      "source": [
        "A typical command for eMFDScore specifies the following:\n",
        "\n",
        "`$ emfdscore [INPUT_FILE][OUTPUT_FILE][SCORING_METHOD][DICT_TYPE[prob-map][output_metrics]]`"
      ]
    },
    {
      "cell_type": "markdown",
      "metadata": {
        "id": "U9NZC-WufIMS"
      },
      "source": [
        "When using eMFDscore, several inputs need to be defined in a specific order:\n",
        "\n",
        "- [INPUT_FILE]: = The path to a CSV file in which the first column contains the document texts to be scored.  \n",
        "  Each row should reflect its own document. See the template_input.csv for an example file format.\n",
        "  \n",
        "  \n",
        "- [OUTPUT_FILE] = Specifies the file name of the generated output csv.\n",
        "\n",
        "\n",
        "- [SCORING_METHOD] = Currently, eMFDscore employs three different scoring algorithms:\n",
        "    - `bow` is a classical Bag-of-Words approach in which the algorithm simply searches for word matches between document texts and the specified dictionary.\n",
        "    - `pat` (in development) relies on named entity recognition and syntactic dependency parsing. For each document, the algorithm first extracts all mentioned entities.  \n",
        "    Next, for each entitiy, eMFDscore extracts words that pertain to 1) moral verbs for which the entity is an agent argument (Agent verbs), 2) moral verbs for  \n",
        "    which the entity is the patient, theme, or other argument (Patient verbs), and other moral attributes (i.e., adjectival modifiers, appositives, etc.).\n",
        "    - `wordlist` is a simple scoring algorithm that lets users examine the moral content of individual words. This scoring method expects a CSV where each row corresponds  \n",
        "    to a unique word. Note: The wordlist scoring algorithm does not perform any tokenization or preprocessing on the wordlists.   \n",
        "    For a more fine-grained moral content extraction, users are encouraged to use either the bow or path methodology. Furthermore, only the emfd is currenlty supported for PAT extraction.   \n",
        "    Additionally, this method is more computationally expensive and thus has a longer execution time.\n",
        "    - `gdelt.ngrams` is designed for the Global Database of Events, Language, and Tone Television Ngram dataset.   \n",
        "    This scoring method expects a unigram (1gram) input text file from GDELT and will score each unprocessed (untokenized) unigram with the eMFD.\n",
        "    \n",
        "    \n",
        "- [DICTIONARY_TYPE] = Declares which dictionary is applied to score documents. In its current version, eMFDscore lets users choose between three dictionaries:\n",
        "    - `emfd` = extended Moral Foundations Dictionary (eMFD)\n",
        "    - `mfd2` = Moral Foundations Dicitonary 2.0 (Frimer et al., 2017; https://osf.io/xakyw/ )\n",
        "    - `mfd` = original Moral Foundations Dictionary (https://moralfoundations.org/othermaterials)\n",
        "\n",
        "\n",
        "- When choosing the eMFD; the following two additional flags need to be defined:\n",
        "    - [PROB_MAP]: How are the foundation probabilities mapped when scoring a document?\n",
        "        - `all` : use all probabilities per word in the eMFD\n",
        "        - `single`: Assign a single probability to each word in the eMFD according to the foundation with the highest probability\n",
        "           \n",
        "    - [OUTPUT_METRICS]: Which metrics are returned?\n",
        "        - `sentiment`: Return the average sentiment for each foundation\n",
        "        - `vice-virtue`: Split foundations into a vice-virtue category"
      ]
    },
    {
      "cell_type": "markdown",
      "metadata": {
        "id": "4BPaLenqfIMS"
      },
      "source": [
        "#### Scoring Documents with the eMFD"
      ]
    },
    {
      "cell_type": "markdown",
      "metadata": {
        "id": "2qpPzPmCfIMS"
      },
      "source": [
        "Below, we illustrate the various text scoring options in eMFDscore.  \n",
        "For this purpose, we will be using a CSV file in which each row corresponds to  \n",
        "a news article text."
      ]
    },
    {
      "cell_type": "code",
      "source": [
        "#!rm -rf \"/content/emfdscore\""
      ],
      "metadata": {
        "id": "CAZGZHJD1KlM"
      },
      "execution_count": 6,
      "outputs": []
    },
    {
      "cell_type": "code",
      "source": [
        "#!git clone https://github.com/medianeuroscience/emfdscore.git\n",
        "!git clone https://github.com/nils-holmberg/emfdscore.git"
      ],
      "metadata": {
        "colab": {
          "base_uri": "https://localhost:8080/"
        },
        "id": "xQefpO7cf3x_",
        "outputId": "c2599e04-6ca4-4881-df14-018fc21b3907"
      },
      "execution_count": 5,
      "outputs": [
        {
          "output_type": "stream",
          "name": "stdout",
          "text": [
            "Cloning into 'emfdscore'...\n",
            "remote: Enumerating objects: 750, done.\u001b[K\n",
            "remote: Counting objects: 100% (79/79), done.\u001b[K\n",
            "remote: Compressing objects: 100% (23/23), done.\u001b[K\n",
            "remote: Total 750 (delta 71), reused 59 (delta 56), pack-reused 671\u001b[K\n",
            "Receiving objects: 100% (750/750), 7.02 MiB | 11.79 MiB/s, done.\n",
            "Resolving deltas: 100% (426/426), done.\n"
          ]
        }
      ]
    },
    {
      "cell_type": "code",
      "source": [
        "import spacy\n",
        "print(spacy.__version__)"
      ],
      "metadata": {
        "colab": {
          "base_uri": "https://localhost:8080/"
        },
        "id": "derSgyZj6jVo",
        "outputId": "481b3740-6569-403e-fe74-3a60821dc775"
      },
      "execution_count": 6,
      "outputs": [
        {
          "output_type": "stream",
          "name": "stdout",
          "text": [
            "3.4.0\n"
          ]
        }
      ]
    },
    {
      "cell_type": "code",
      "execution_count": 7,
      "metadata": {
        "colab": {
          "base_uri": "https://localhost:8080/",
          "height": 206
        },
        "id": "-9K1BgA_fIMS",
        "outputId": "fbd990f0-a056-4dc3-d720-f463e55f5f28"
      },
      "outputs": [
        {
          "output_type": "execute_result",
          "data": {
            "text/plain": [
              "                                                   0\n",
              "0  The Iraqi government's assault to retake the c...\n",
              "1  WASHINGTON -- North Korea now has the capabili...\n",
              "2  TEL AVIV – An Egyptian journalist wrote an op-...\n",
              "3  What was life like for Russians such as Tsar N...\n",
              "4  President Obama's former national security adv..."
            ],
            "text/html": [
              "\n",
              "  <div id=\"df-0fcb44c6-8e59-43ff-9258-ac1fbb1683ea\" class=\"colab-df-container\">\n",
              "    <div>\n",
              "<style scoped>\n",
              "    .dataframe tbody tr th:only-of-type {\n",
              "        vertical-align: middle;\n",
              "    }\n",
              "\n",
              "    .dataframe tbody tr th {\n",
              "        vertical-align: top;\n",
              "    }\n",
              "\n",
              "    .dataframe thead th {\n",
              "        text-align: right;\n",
              "    }\n",
              "</style>\n",
              "<table border=\"1\" class=\"dataframe\">\n",
              "  <thead>\n",
              "    <tr style=\"text-align: right;\">\n",
              "      <th></th>\n",
              "      <th>0</th>\n",
              "    </tr>\n",
              "  </thead>\n",
              "  <tbody>\n",
              "    <tr>\n",
              "      <th>0</th>\n",
              "      <td>The Iraqi government's assault to retake the c...</td>\n",
              "    </tr>\n",
              "    <tr>\n",
              "      <th>1</th>\n",
              "      <td>WASHINGTON -- North Korea now has the capabili...</td>\n",
              "    </tr>\n",
              "    <tr>\n",
              "      <th>2</th>\n",
              "      <td>TEL AVIV – An Egyptian journalist wrote an op-...</td>\n",
              "    </tr>\n",
              "    <tr>\n",
              "      <th>3</th>\n",
              "      <td>What was life like for Russians such as Tsar N...</td>\n",
              "    </tr>\n",
              "    <tr>\n",
              "      <th>4</th>\n",
              "      <td>President Obama's former national security adv...</td>\n",
              "    </tr>\n",
              "  </tbody>\n",
              "</table>\n",
              "</div>\n",
              "    <div class=\"colab-df-buttons\">\n",
              "\n",
              "  <div class=\"colab-df-container\">\n",
              "    <button class=\"colab-df-convert\" onclick=\"convertToInteractive('df-0fcb44c6-8e59-43ff-9258-ac1fbb1683ea')\"\n",
              "            title=\"Convert this dataframe to an interactive table.\"\n",
              "            style=\"display:none;\">\n",
              "\n",
              "  <svg xmlns=\"http://www.w3.org/2000/svg\" height=\"24px\" viewBox=\"0 -960 960 960\">\n",
              "    <path d=\"M120-120v-720h720v720H120Zm60-500h600v-160H180v160Zm220 220h160v-160H400v160Zm0 220h160v-160H400v160ZM180-400h160v-160H180v160Zm440 0h160v-160H620v160ZM180-180h160v-160H180v160Zm440 0h160v-160H620v160Z\"/>\n",
              "  </svg>\n",
              "    </button>\n",
              "\n",
              "  <style>\n",
              "    .colab-df-container {\n",
              "      display:flex;\n",
              "      gap: 12px;\n",
              "    }\n",
              "\n",
              "    .colab-df-convert {\n",
              "      background-color: #E8F0FE;\n",
              "      border: none;\n",
              "      border-radius: 50%;\n",
              "      cursor: pointer;\n",
              "      display: none;\n",
              "      fill: #1967D2;\n",
              "      height: 32px;\n",
              "      padding: 0 0 0 0;\n",
              "      width: 32px;\n",
              "    }\n",
              "\n",
              "    .colab-df-convert:hover {\n",
              "      background-color: #E2EBFA;\n",
              "      box-shadow: 0px 1px 2px rgba(60, 64, 67, 0.3), 0px 1px 3px 1px rgba(60, 64, 67, 0.15);\n",
              "      fill: #174EA6;\n",
              "    }\n",
              "\n",
              "    .colab-df-buttons div {\n",
              "      margin-bottom: 4px;\n",
              "    }\n",
              "\n",
              "    [theme=dark] .colab-df-convert {\n",
              "      background-color: #3B4455;\n",
              "      fill: #D2E3FC;\n",
              "    }\n",
              "\n",
              "    [theme=dark] .colab-df-convert:hover {\n",
              "      background-color: #434B5C;\n",
              "      box-shadow: 0px 1px 3px 1px rgba(0, 0, 0, 0.15);\n",
              "      filter: drop-shadow(0px 1px 2px rgba(0, 0, 0, 0.3));\n",
              "      fill: #FFFFFF;\n",
              "    }\n",
              "  </style>\n",
              "\n",
              "    <script>\n",
              "      const buttonEl =\n",
              "        document.querySelector('#df-0fcb44c6-8e59-43ff-9258-ac1fbb1683ea button.colab-df-convert');\n",
              "      buttonEl.style.display =\n",
              "        google.colab.kernel.accessAllowed ? 'block' : 'none';\n",
              "\n",
              "      async function convertToInteractive(key) {\n",
              "        const element = document.querySelector('#df-0fcb44c6-8e59-43ff-9258-ac1fbb1683ea');\n",
              "        const dataTable =\n",
              "          await google.colab.kernel.invokeFunction('convertToInteractive',\n",
              "                                                    [key], {});\n",
              "        if (!dataTable) return;\n",
              "\n",
              "        const docLinkHtml = 'Like what you see? Visit the ' +\n",
              "          '<a target=\"_blank\" href=https://colab.research.google.com/notebooks/data_table.ipynb>data table notebook</a>'\n",
              "          + ' to learn more about interactive tables.';\n",
              "        element.innerHTML = '';\n",
              "        dataTable['output_type'] = 'display_data';\n",
              "        await google.colab.output.renderOutput(dataTable, element);\n",
              "        const docLink = document.createElement('div');\n",
              "        docLink.innerHTML = docLinkHtml;\n",
              "        element.appendChild(docLink);\n",
              "      }\n",
              "    </script>\n",
              "  </div>\n",
              "\n",
              "\n",
              "<div id=\"df-f86cd38b-3c2b-4f76-88b1-6eae751b0817\">\n",
              "  <button class=\"colab-df-quickchart\" onclick=\"quickchart('df-f86cd38b-3c2b-4f76-88b1-6eae751b0817')\"\n",
              "            title=\"Suggest charts\"\n",
              "            style=\"display:none;\">\n",
              "\n",
              "<svg xmlns=\"http://www.w3.org/2000/svg\" height=\"24px\"viewBox=\"0 0 24 24\"\n",
              "     width=\"24px\">\n",
              "    <g>\n",
              "        <path d=\"M19 3H5c-1.1 0-2 .9-2 2v14c0 1.1.9 2 2 2h14c1.1 0 2-.9 2-2V5c0-1.1-.9-2-2-2zM9 17H7v-7h2v7zm4 0h-2V7h2v10zm4 0h-2v-4h2v4z\"/>\n",
              "    </g>\n",
              "</svg>\n",
              "  </button>\n",
              "\n",
              "<style>\n",
              "  .colab-df-quickchart {\n",
              "      --bg-color: #E8F0FE;\n",
              "      --fill-color: #1967D2;\n",
              "      --hover-bg-color: #E2EBFA;\n",
              "      --hover-fill-color: #174EA6;\n",
              "      --disabled-fill-color: #AAA;\n",
              "      --disabled-bg-color: #DDD;\n",
              "  }\n",
              "\n",
              "  [theme=dark] .colab-df-quickchart {\n",
              "      --bg-color: #3B4455;\n",
              "      --fill-color: #D2E3FC;\n",
              "      --hover-bg-color: #434B5C;\n",
              "      --hover-fill-color: #FFFFFF;\n",
              "      --disabled-bg-color: #3B4455;\n",
              "      --disabled-fill-color: #666;\n",
              "  }\n",
              "\n",
              "  .colab-df-quickchart {\n",
              "    background-color: var(--bg-color);\n",
              "    border: none;\n",
              "    border-radius: 50%;\n",
              "    cursor: pointer;\n",
              "    display: none;\n",
              "    fill: var(--fill-color);\n",
              "    height: 32px;\n",
              "    padding: 0;\n",
              "    width: 32px;\n",
              "  }\n",
              "\n",
              "  .colab-df-quickchart:hover {\n",
              "    background-color: var(--hover-bg-color);\n",
              "    box-shadow: 0 1px 2px rgba(60, 64, 67, 0.3), 0 1px 3px 1px rgba(60, 64, 67, 0.15);\n",
              "    fill: var(--button-hover-fill-color);\n",
              "  }\n",
              "\n",
              "  .colab-df-quickchart-complete:disabled,\n",
              "  .colab-df-quickchart-complete:disabled:hover {\n",
              "    background-color: var(--disabled-bg-color);\n",
              "    fill: var(--disabled-fill-color);\n",
              "    box-shadow: none;\n",
              "  }\n",
              "\n",
              "  .colab-df-spinner {\n",
              "    border: 2px solid var(--fill-color);\n",
              "    border-color: transparent;\n",
              "    border-bottom-color: var(--fill-color);\n",
              "    animation:\n",
              "      spin 1s steps(1) infinite;\n",
              "  }\n",
              "\n",
              "  @keyframes spin {\n",
              "    0% {\n",
              "      border-color: transparent;\n",
              "      border-bottom-color: var(--fill-color);\n",
              "      border-left-color: var(--fill-color);\n",
              "    }\n",
              "    20% {\n",
              "      border-color: transparent;\n",
              "      border-left-color: var(--fill-color);\n",
              "      border-top-color: var(--fill-color);\n",
              "    }\n",
              "    30% {\n",
              "      border-color: transparent;\n",
              "      border-left-color: var(--fill-color);\n",
              "      border-top-color: var(--fill-color);\n",
              "      border-right-color: var(--fill-color);\n",
              "    }\n",
              "    40% {\n",
              "      border-color: transparent;\n",
              "      border-right-color: var(--fill-color);\n",
              "      border-top-color: var(--fill-color);\n",
              "    }\n",
              "    60% {\n",
              "      border-color: transparent;\n",
              "      border-right-color: var(--fill-color);\n",
              "    }\n",
              "    80% {\n",
              "      border-color: transparent;\n",
              "      border-right-color: var(--fill-color);\n",
              "      border-bottom-color: var(--fill-color);\n",
              "    }\n",
              "    90% {\n",
              "      border-color: transparent;\n",
              "      border-bottom-color: var(--fill-color);\n",
              "    }\n",
              "  }\n",
              "</style>\n",
              "\n",
              "  <script>\n",
              "    async function quickchart(key) {\n",
              "      const quickchartButtonEl =\n",
              "        document.querySelector('#' + key + ' button');\n",
              "      quickchartButtonEl.disabled = true;  // To prevent multiple clicks.\n",
              "      quickchartButtonEl.classList.add('colab-df-spinner');\n",
              "      try {\n",
              "        const charts = await google.colab.kernel.invokeFunction(\n",
              "            'suggestCharts', [key], {});\n",
              "      } catch (error) {\n",
              "        console.error('Error during call to suggestCharts:', error);\n",
              "      }\n",
              "      quickchartButtonEl.classList.remove('colab-df-spinner');\n",
              "      quickchartButtonEl.classList.add('colab-df-quickchart-complete');\n",
              "    }\n",
              "    (() => {\n",
              "      let quickchartButtonEl =\n",
              "        document.querySelector('#df-f86cd38b-3c2b-4f76-88b1-6eae751b0817 button');\n",
              "      quickchartButtonEl.style.display =\n",
              "        google.colab.kernel.accessAllowed ? 'block' : 'none';\n",
              "    })();\n",
              "  </script>\n",
              "</div>\n",
              "    </div>\n",
              "  </div>\n"
            ],
            "application/vnd.google.colaboratory.intrinsic+json": {
              "type": "dataframe",
              "variable_name": "template_input",
              "summary": "{\n  \"name\": \"template_input\",\n  \"rows\": 500,\n  \"fields\": [\n    {\n      \"column\": 0,\n      \"properties\": {\n        \"dtype\": \"string\",\n        \"num_unique_values\": 496,\n        \"samples\": [\n          \"NEW YORK \\u2014 Esteban Santiago, the 26-year-old man held in the fatal shootings last week at Fort Lauderdale\\u2019s airport, reportedly has a history of mental difficulties and it\\u2019s tempting to assume they explain the crime. Experts say: Don\\u2019t.\\n\\n\\u201cThere is no one explanation that will fit this case or any case,\\u201d says criminologist James Alan Fox of Northeastern University, an expert on violence.\\n\\nWhile mental health troubles could turn out to play a role in the case, it\\u2019s unusual for symptoms to drive violence, says Edward Mulvey, a psychologist at the University of Pittsburgh School of Medicine who studies violence and mental illness.\\n\\nThere has been no public explanation of a motive for the crime, and terrorism has not been ruled out. It could be that mental illness played no role - it is unclear if Santiago had been formally diagnosed with any mental condition or was undergoing treatment.\\n\\nA few reported details suggest he was troubled. The mother of the Iraq war veteran said he had been deeply shaken by seeing a bomb explode next to two friends while serving in Iraq in 2010, and relatives said he seemed different when he returned from service.\\n\\nSantiago\\u2019s brother Bryan said Esteban told him last August that he was hearing voices and felt he was being chased. In November, he walked into an FBI field office in Alaska and said the federal government was controlling his mind and forcing him to watch Islamic State videos, authorities said.\\n\\nAt that point, officials seized his handgun and had him formally evaluated. After four days he was released and his gun was returned.\\n\\nBut none of these details, by themselves or even together, are enough to draw conclusions, experts say.\\n\\nPlenty of people have had such experiences in their past and don\\u2019t commit mass murder, Fox said. The fact that Santiago was released after the evaluation indicates authorities believed he was not dangerous to himself or others, Fox said.\\n\\n\\u201cThere\\u2019s a difference between being psychotic and being dangerous and psychotic,\\u201d Fox said.\\n\\nWhile certain factors often show up in the history of mass murderers, like a history of failure, a tendency to blame others and social isolation, they also appear in the histories of people who don\\u2019t harm anybody, Fox said. That\\u2019s why mass killers can\\u2019t be reliably identified in advance of the crime, he said.\\n\\nDr. Paul Appelbaum, a professor of psychiatry at Columbia University in New York, also warned against jumping to the conclusion that a psychiatric disorder is the reason for the shootings. Most behaviors have multiple causes, he said. And even if Santiago suffered from psychosis when he walked into the FBI office, symptoms wax and wane, Appelbaum said, so it\\u2019s not clear what his situation was at the airport.\\n\\nIn any case, even if had had a psychotic disorder, \\u201cmost people with psychotic disorders never hurt anybody at all.... There may still be other influences on him that affected his behavior in a material way,\\u201d Appelbaum said.\\n\\nSantiago had other recent stresses. He recently became a father. He said in court Monday he hadn\\u2019t worked since November, and he had no money.\\n\\nMulvey said there are people who are driven to violence by delusions, but \\u201cthey\\u2019re rare, they\\u2019re much less common than people might expect.\\u201d Often when psychotic people are involved in violence it\\u2019s not because of their mental illness but rather something else, like substance abuse, he said.\\n\\nThe American Psychological Association says that while there\\u2019s a small association between mental illness and violence directed at others, the overwhelming majority of people with serious mental illness don\\u2019t pose a risk to others and should not be stereotyped as dangerous.\",\n          \"Breitbart Senior Editor Milo Yiannopoulos, spoke at West Virginia University today discussing the President-elect Donald Trump, the death of Fidel Castro and campus free speech censorship via security fee price increases.\\n\\n\\\"I mean, I'm a flamboyant, ridiculous faggot,\\\" said MILO stating the obvious, \\\"but It's still easier to take me seriously than some of my detractors. Every voice on the Left bleated about how they feared protests and riots by angry Donald Trump supporters if and when he lost the election, yet it is the leftists themselves destroying property and blocking roads. Everyone can see where the hate is coming from. Everyone.\\\"\\n\\nMILO continued. \\\"It is sort of like how they are claiming the election was rigged right after they said that was impossible. Democrats, the difference between social media and real life is you cannot just delete what you said and pretend it never happened.  You're hypocrites \\u2014 and these riots and recount demands expose you.\\\"\\n\\n\\\"The protesters themselves will have good jobs available if they choose to go straight. Otherwise they will be dealing with men like Sheriff David Clarke and Sheriff Joe Arpiao.  Good luck, guys. My money is on the sheriffs. To give you a flavour of how utterly miserable the Left is about all this, we are now in a post-election period in which leftists are faking hate crimes in an effort to paint Trump supporters negatively.\\\" said MILO.\\n\\nReferencing an event from a few weeks ago MILO said: \\\"A Muslim woman at the University of Louisiana claimed Trump supporters attacked her. It didn't happen. A gay man from Canada named Chris Ball says he was also attacked, and posted graphic pictures with a bloody face as proof. It also didn't happen, according to the police. Do you have any idea how poor your hate crime hoax story has to be for the increasingly partisan Snopes.com to say it's untrue?\\\"\\n\\n\\\"These hoax crimes remind me of Rolling Stone.\\\" said MILO referencing Emma 'Mattress Girl' Sulkowicz,  \\\"They set out to report on the rape culture of American campuses, but when they couldn't find any examples, they just made shit up. As usual, I am ahead of the curve. I wrote a long time ago about the growing epidemic of fake hate crimes that has sprung up over the past 10 years \\u2014 and opened the last leg of my Dangerous Faggot tour by asking why lesbians commit so many of them.\\\"\\n\\nMILO continued. \\\"Hoaxers are only harming their own cause. While many are likely to avoid immediate punishment for making up stories in place of actual hate crimes by Trump supporters \\u2014 which don't exist \\u2014 what the Trump presidency means for these imaginative fools is a wonderfully incriminating social media trail for potential employers.\\\"\\n\\n\\\"Media cycles end, but the Internet never forgets. This is a valuable lesson especially for college students. Many of  the hoaxers come from campus, and they are ruining their future. The two liberals at Northwestern who defaced the interfaith chapel with spraypaint aren't likely to find a job unless it is for George Soros, or maybe a pizza restaurant in Washington DC.\\\"\\n\\nWritten from prepared remarks.\\n\\nWatch the full event below.\\n\\n\",\n          \"ISLAMABAD \\u2013  The Islamic State group is increasing its presence in Pakistan, recruiting Uzbek militants, attracting disgruntled Taliban fighters and partnering with one of Pakistan's most violent sectarian groups, according to police officers, Taliban officials and analysts.\\n\\nIts latest atrocity was an attack Saturday on a Sufi shrine in southwestern Pakistan that killed at least 50 people and wounded 100 others. The group said in a statement that a suicide bomber attacked the shrine with the intent of killing Shiite Muslims and issued a picture of the attacker.\\n\\nWhen IS circulated a photograph of one of the attackers in last month's deadly assault on a police academy in southwestern Baluchistan province, two Taliban officials told The Associated Press that the attacker was an Uzbek, most likely a member of the Islamic Movement of Uzbekistan. More than 60 people, most of them police recruits, were killed in that Oct. 26 attack when three assailants battled security forces for hours before being killed or detonating their suicide vests.\\n\\nThe Taliban officials, both of whom are familiar with the IMU, spoke on condition of anonymity because their leadership has banned them from talking to the media.\\n\\nAuthorities initially said the police academy attack was orchestrated by militants hiding out in Afghanistan and blamed Pakistan's virulently anti-Shiite group, Lashkar-e-Jhangvi. But IS later claimed responsibility and Lashkar-e-Jhangvi spokesman Ali Bin Sufyan said they partnered with IS to carry out the assault.\\n\\nIn Afghanistan and Pakistan, the extremist group has adopted the name the Islamic State in Khorasan \\u2014 a reference to an ancient geographical region that encompassed a vast swath of territory stretching from Turkmenistan through Iran and Afghanistan.\\n\\nIS in Khorasan has set up its base in Afghanistan's eastern Nangarhar province, and while it has pledged allegiance to the Islamic State group in Syria and Iraq, it remains unclear whether there are direct operational or financial links between the two.\\n\\nAccording to police, Afghan officials and IS media outlets, the majority of Islamic State fighters in Afghanistan are Pakistani nationals, mostly from the tribal regions. Disgruntled Taliban fighters from Pakistan and Afghanistan have joined along with foreign fighters, mainly from central Asia. The group's leader until his death in July in a drone strike was Hafiz Saeed Khan, a former Pakistani Taliban commander. IS has never acknowledged Khan's death, which was confirmed by both the Afghan and U.S. militaries.\\n\\nCounterterrorism officials in Pakistan say that IS has begun reaching out to local militants through its rich social media presence.\\n\\n\\\"They are inspiring the like-minded youth in Pakistan through their strong social media propaganda,\\\" said Junaid Sheikh, a senior counterterrorism commander in the southern city of Karachi.\\n\\n\\\"There is evidence that militants of other organizations like Lashkar-e-Jhangvi, Al-Qaeda in the Subcontinent and other Sunni extremist organizations switched their ideology toward Daesh and acted like their activists,\\\" he said, using an Arabic acronym for IS. The recruitment of Uzbek militants is particularly worrisome and a \\\"significant threat to our national security,\\\" he added.\\n\\nHe said Uzbek fighters have carried out numerous major attacks in Pakistan, including a 2011 attack on a naval base and a 2014 attack on the Karachi Airport. Local militant groups provided the intelligence to carry out the attacks, he said.\\n\\nA resident of Afghanistan's Nangarhar province who did not want to be identified for fear of retribution said he spoke with two Iranian Islamic State members late last year. Unlike the Pakistani and Afghan insurgents, the resident, who fled to Pakistan after his home was overrun by IS fighters, said the foreign fighters were friendly and engaged with local residents. One Iranian fighter said he was recruited for his computer skills, the resident said.\\n\\nPreviously, Uzbek insurgents normally allied with the Pakistani and Afghan branches of the Taliban, having sworn allegiance to Taliban founder Mullah Mohammed Omar. However, many Uzbek fighters split from the Taliban and declared allegiance to IS last year after it was revealed that Taliban officials had hidden the fact that Mullah Omar had died two years earlier.\\n\\nA senior police official in Pakistan's eastern Punjab province, where several militant groups are headquartered, said the IS group is firmly entrenched in Pakistan and its roots are growing stronger as it aligns with Pakistan's Sunni Muslim extremist groups like Lashkar-e-Jhangvi. The police official spoke on condition of anonymity because he was not authorized to speak to the media. The official also said that Lashkar-e-Jhangvi had largely relocated from Punjab to Baluchistan province in the face of a major military campaign.\\n\\n\\\"Pakistani Taliban factions that have sparred with the parent Pakistani Taliban have tended to express public support for ISIS,\\\" said Michael Kugelman, senior associate for South Asia at the U.S.-based Wilson Center. \\\"I could certainly envision collusions materializing between disaffected Pakistani Taliban fighters now aligned with ISIS, and Uzbek militants with preexisting ties to the Pakistani Taliban. Either way, at the end of the day, all of these terrorists are cut from the same cloth ideologically and so we should never rule out operational partnerships.\\\"\\n\\n___\\n\\nAssociated Press writers Abdul Sattar in Quetta, Pakistan, Adil Jawad in Karachi, Pakistan and Ishtiaq Mahsud in Dera Ismail Khan, Pakistan contributed to this report.\\n\\n\"\n        ],\n        \"semantic_type\": \"\",\n        \"description\": \"\"\n      }\n    }\n  ]\n}"
            }
          },
          "metadata": {},
          "execution_count": 7
        }
      ],
      "source": [
        "template_input = pd.read_csv('emfdscore/emfdscore/template_input.csv', header=None)\n",
        "template_input.head()"
      ]
    },
    {
      "cell_type": "markdown",
      "metadata": {
        "id": "Q4O7wzRKfIMT"
      },
      "source": [
        "#### 1. Use All Probabilities per Word and Return Sentiment Scores"
      ]
    },
    {
      "cell_type": "markdown",
      "metadata": {
        "id": "W5bvKjqRfIMT"
      },
      "source": [
        "This option should be used when one wants to extract the overall, holistic moral signal from a document.  \n",
        "Note that because each word is assigned five foundation probabilities, there exist higher correlations  \n",
        "across these foundations, making this method less suitable when one wants to\n",
        "- use the foundation probabilities as predictor variables in statistical models\n",
        "- discriminate which foundations are more or less represented in a text.  \n",
        "\n",
        "For these cases, options (2) and (4) below  should be preferred."
      ]
    },
    {
      "cell_type": "markdown",
      "metadata": {
        "id": "LUGUEaxJfIMU"
      },
      "source": [
        "##### Using Python"
      ]
    },
    {
      "cell_type": "code",
      "execution_count": 8,
      "metadata": {
        "colab": {
          "base_uri": "https://localhost:8080/"
        },
        "id": "jEdMVsRhfIMU",
        "outputId": "dd160776-847c-4a40-db1d-9c08e99a76d4"
      },
      "outputs": [
        {
          "output_type": "stream",
          "name": "stdout",
          "text": [
            "NLTK stopwords missing, downloading now.\n"
          ]
        },
        {
          "output_type": "stream",
          "name": "stderr",
          "text": [
            "[nltk_data] Downloading package stopwords to /root/nltk_data...\n",
            "[nltk_data]   Unzipping corpora/stopwords.zip.\n",
            "Processed: 500 100% |❤❤❤❤❤❤❤❤❤❤❤❤❤❤❤❤❤❤❤❤| Elapsed Time: 0:00:45 Time:  0:00:45\n"
          ]
        }
      ],
      "source": [
        "from emfdscore.scoring import score_docs\n",
        "\n",
        "num_docs = len(template_input)\n",
        "\n",
        "DICT_TYPE = 'emfd'\n",
        "PROB_MAP = 'all'\n",
        "SCORE_METHOD = 'bow'\n",
        "OUT_METRICS = 'sentiment'\n",
        "OUT_CSV_PATH = 'all-sent.csv'\n",
        "\n",
        "df = score_docs(template_input,DICT_TYPE,PROB_MAP,SCORE_METHOD,OUT_METRICS,num_docs)\n",
        "df.to_csv(OUT_CSV_PATH, index=False)"
      ]
    },
    {
      "cell_type": "markdown",
      "metadata": {
        "id": "GxV6Kdg_fIMU"
      },
      "source": [
        "##### Using the Command Line"
      ]
    },
    {
      "cell_type": "code",
      "execution_count": null,
      "metadata": {
        "id": "Kzv7SN5KfIMU",
        "outputId": "5419f834-f80a-4281-a66e-d89e35b41421"
      },
      "outputs": [
        {
          "name": "stdout",
          "output_type": "stream",
          "text": [
            "Running eMFDscore\n",
            "Total number of input texts to be scored: 500\n",
            "Scoring completed.\n"
          ]
        },
        {
          "name": "stderr",
          "output_type": "stream",
          "text": [
            "Processed: 500 100% |❤❤❤❤❤❤❤❤❤❤❤❤❤❤❤❤❤❤❤❤| Elapsed Time: 0:00:38 Time:  0:00:38\n"
          ]
        }
      ],
      "source": [
        "%%bash\n",
        "!emfdscore emfdscore/emfdscore/template_input.csv all-sent.csv bow emfd all sentiment"
      ]
    },
    {
      "cell_type": "code",
      "execution_count": 9,
      "metadata": {
        "colab": {
          "base_uri": "https://localhost:8080/",
          "height": 226
        },
        "id": "P0Fk5Yo8fIMU",
        "outputId": "7f889c13-0ade-420b-96f0-1801d1668b15"
      },
      "outputs": [
        {
          "output_type": "execute_result",
          "data": {
            "text/plain": [
              "     care_p  fairness_p  loyalty_p  authority_p  sanctity_p  care_sent  \\\n",
              "0  0.135488    0.103978   0.097914     0.104486    0.083446  -0.151964   \n",
              "1  0.112714    0.087392   0.090776     0.098351    0.069435  -0.143459   \n",
              "2  0.114769    0.103932   0.094078     0.096782    0.089199  -0.157342   \n",
              "3  0.090146    0.085675   0.086087     0.092897    0.070704  -0.069739   \n",
              "4  0.093715    0.088627   0.094254     0.094601    0.070870  -0.109248   \n",
              "\n",
              "   fairness_sent  loyalty_sent  authority_sent  sanctity_sent  \\\n",
              "0      -0.122982     -0.101907       -0.102609      -0.110386   \n",
              "1      -0.061835     -0.046722       -0.064888      -0.088798   \n",
              "2      -0.132494     -0.074078       -0.091602      -0.098686   \n",
              "3      -0.013825      0.019261       -0.030559      -0.051676   \n",
              "4      -0.057367     -0.013941       -0.037166      -0.086024   \n",
              "\n",
              "   moral_nonmoral_ratio     f_var  sent_var  \n",
              "0              2.417722  0.000361  0.000433  \n",
              "1              1.669903  0.000250  0.001441  \n",
              "2              0.791411  0.000099  0.001125  \n",
              "3              1.051948  0.000074  0.001184  \n",
              "4              1.464481  0.000102  0.001437  "
            ],
            "text/html": [
              "\n",
              "  <div id=\"df-156d804a-dca3-43a8-bfd0-3e8f3c5ae4a8\" class=\"colab-df-container\">\n",
              "    <div>\n",
              "<style scoped>\n",
              "    .dataframe tbody tr th:only-of-type {\n",
              "        vertical-align: middle;\n",
              "    }\n",
              "\n",
              "    .dataframe tbody tr th {\n",
              "        vertical-align: top;\n",
              "    }\n",
              "\n",
              "    .dataframe thead th {\n",
              "        text-align: right;\n",
              "    }\n",
              "</style>\n",
              "<table border=\"1\" class=\"dataframe\">\n",
              "  <thead>\n",
              "    <tr style=\"text-align: right;\">\n",
              "      <th></th>\n",
              "      <th>care_p</th>\n",
              "      <th>fairness_p</th>\n",
              "      <th>loyalty_p</th>\n",
              "      <th>authority_p</th>\n",
              "      <th>sanctity_p</th>\n",
              "      <th>care_sent</th>\n",
              "      <th>fairness_sent</th>\n",
              "      <th>loyalty_sent</th>\n",
              "      <th>authority_sent</th>\n",
              "      <th>sanctity_sent</th>\n",
              "      <th>moral_nonmoral_ratio</th>\n",
              "      <th>f_var</th>\n",
              "      <th>sent_var</th>\n",
              "    </tr>\n",
              "  </thead>\n",
              "  <tbody>\n",
              "    <tr>\n",
              "      <th>0</th>\n",
              "      <td>0.135488</td>\n",
              "      <td>0.103978</td>\n",
              "      <td>0.097914</td>\n",
              "      <td>0.104486</td>\n",
              "      <td>0.083446</td>\n",
              "      <td>-0.151964</td>\n",
              "      <td>-0.122982</td>\n",
              "      <td>-0.101907</td>\n",
              "      <td>-0.102609</td>\n",
              "      <td>-0.110386</td>\n",
              "      <td>2.417722</td>\n",
              "      <td>0.000361</td>\n",
              "      <td>0.000433</td>\n",
              "    </tr>\n",
              "    <tr>\n",
              "      <th>1</th>\n",
              "      <td>0.112714</td>\n",
              "      <td>0.087392</td>\n",
              "      <td>0.090776</td>\n",
              "      <td>0.098351</td>\n",
              "      <td>0.069435</td>\n",
              "      <td>-0.143459</td>\n",
              "      <td>-0.061835</td>\n",
              "      <td>-0.046722</td>\n",
              "      <td>-0.064888</td>\n",
              "      <td>-0.088798</td>\n",
              "      <td>1.669903</td>\n",
              "      <td>0.000250</td>\n",
              "      <td>0.001441</td>\n",
              "    </tr>\n",
              "    <tr>\n",
              "      <th>2</th>\n",
              "      <td>0.114769</td>\n",
              "      <td>0.103932</td>\n",
              "      <td>0.094078</td>\n",
              "      <td>0.096782</td>\n",
              "      <td>0.089199</td>\n",
              "      <td>-0.157342</td>\n",
              "      <td>-0.132494</td>\n",
              "      <td>-0.074078</td>\n",
              "      <td>-0.091602</td>\n",
              "      <td>-0.098686</td>\n",
              "      <td>0.791411</td>\n",
              "      <td>0.000099</td>\n",
              "      <td>0.001125</td>\n",
              "    </tr>\n",
              "    <tr>\n",
              "      <th>3</th>\n",
              "      <td>0.090146</td>\n",
              "      <td>0.085675</td>\n",
              "      <td>0.086087</td>\n",
              "      <td>0.092897</td>\n",
              "      <td>0.070704</td>\n",
              "      <td>-0.069739</td>\n",
              "      <td>-0.013825</td>\n",
              "      <td>0.019261</td>\n",
              "      <td>-0.030559</td>\n",
              "      <td>-0.051676</td>\n",
              "      <td>1.051948</td>\n",
              "      <td>0.000074</td>\n",
              "      <td>0.001184</td>\n",
              "    </tr>\n",
              "    <tr>\n",
              "      <th>4</th>\n",
              "      <td>0.093715</td>\n",
              "      <td>0.088627</td>\n",
              "      <td>0.094254</td>\n",
              "      <td>0.094601</td>\n",
              "      <td>0.070870</td>\n",
              "      <td>-0.109248</td>\n",
              "      <td>-0.057367</td>\n",
              "      <td>-0.013941</td>\n",
              "      <td>-0.037166</td>\n",
              "      <td>-0.086024</td>\n",
              "      <td>1.464481</td>\n",
              "      <td>0.000102</td>\n",
              "      <td>0.001437</td>\n",
              "    </tr>\n",
              "  </tbody>\n",
              "</table>\n",
              "</div>\n",
              "    <div class=\"colab-df-buttons\">\n",
              "\n",
              "  <div class=\"colab-df-container\">\n",
              "    <button class=\"colab-df-convert\" onclick=\"convertToInteractive('df-156d804a-dca3-43a8-bfd0-3e8f3c5ae4a8')\"\n",
              "            title=\"Convert this dataframe to an interactive table.\"\n",
              "            style=\"display:none;\">\n",
              "\n",
              "  <svg xmlns=\"http://www.w3.org/2000/svg\" height=\"24px\" viewBox=\"0 -960 960 960\">\n",
              "    <path d=\"M120-120v-720h720v720H120Zm60-500h600v-160H180v160Zm220 220h160v-160H400v160Zm0 220h160v-160H400v160ZM180-400h160v-160H180v160Zm440 0h160v-160H620v160ZM180-180h160v-160H180v160Zm440 0h160v-160H620v160Z\"/>\n",
              "  </svg>\n",
              "    </button>\n",
              "\n",
              "  <style>\n",
              "    .colab-df-container {\n",
              "      display:flex;\n",
              "      gap: 12px;\n",
              "    }\n",
              "\n",
              "    .colab-df-convert {\n",
              "      background-color: #E8F0FE;\n",
              "      border: none;\n",
              "      border-radius: 50%;\n",
              "      cursor: pointer;\n",
              "      display: none;\n",
              "      fill: #1967D2;\n",
              "      height: 32px;\n",
              "      padding: 0 0 0 0;\n",
              "      width: 32px;\n",
              "    }\n",
              "\n",
              "    .colab-df-convert:hover {\n",
              "      background-color: #E2EBFA;\n",
              "      box-shadow: 0px 1px 2px rgba(60, 64, 67, 0.3), 0px 1px 3px 1px rgba(60, 64, 67, 0.15);\n",
              "      fill: #174EA6;\n",
              "    }\n",
              "\n",
              "    .colab-df-buttons div {\n",
              "      margin-bottom: 4px;\n",
              "    }\n",
              "\n",
              "    [theme=dark] .colab-df-convert {\n",
              "      background-color: #3B4455;\n",
              "      fill: #D2E3FC;\n",
              "    }\n",
              "\n",
              "    [theme=dark] .colab-df-convert:hover {\n",
              "      background-color: #434B5C;\n",
              "      box-shadow: 0px 1px 3px 1px rgba(0, 0, 0, 0.15);\n",
              "      filter: drop-shadow(0px 1px 2px rgba(0, 0, 0, 0.3));\n",
              "      fill: #FFFFFF;\n",
              "    }\n",
              "  </style>\n",
              "\n",
              "    <script>\n",
              "      const buttonEl =\n",
              "        document.querySelector('#df-156d804a-dca3-43a8-bfd0-3e8f3c5ae4a8 button.colab-df-convert');\n",
              "      buttonEl.style.display =\n",
              "        google.colab.kernel.accessAllowed ? 'block' : 'none';\n",
              "\n",
              "      async function convertToInteractive(key) {\n",
              "        const element = document.querySelector('#df-156d804a-dca3-43a8-bfd0-3e8f3c5ae4a8');\n",
              "        const dataTable =\n",
              "          await google.colab.kernel.invokeFunction('convertToInteractive',\n",
              "                                                    [key], {});\n",
              "        if (!dataTable) return;\n",
              "\n",
              "        const docLinkHtml = 'Like what you see? Visit the ' +\n",
              "          '<a target=\"_blank\" href=https://colab.research.google.com/notebooks/data_table.ipynb>data table notebook</a>'\n",
              "          + ' to learn more about interactive tables.';\n",
              "        element.innerHTML = '';\n",
              "        dataTable['output_type'] = 'display_data';\n",
              "        await google.colab.output.renderOutput(dataTable, element);\n",
              "        const docLink = document.createElement('div');\n",
              "        docLink.innerHTML = docLinkHtml;\n",
              "        element.appendChild(docLink);\n",
              "      }\n",
              "    </script>\n",
              "  </div>\n",
              "\n",
              "\n",
              "<div id=\"df-eb66b1f7-1cff-40a8-9937-7db7b179d04a\">\n",
              "  <button class=\"colab-df-quickchart\" onclick=\"quickchart('df-eb66b1f7-1cff-40a8-9937-7db7b179d04a')\"\n",
              "            title=\"Suggest charts\"\n",
              "            style=\"display:none;\">\n",
              "\n",
              "<svg xmlns=\"http://www.w3.org/2000/svg\" height=\"24px\"viewBox=\"0 0 24 24\"\n",
              "     width=\"24px\">\n",
              "    <g>\n",
              "        <path d=\"M19 3H5c-1.1 0-2 .9-2 2v14c0 1.1.9 2 2 2h14c1.1 0 2-.9 2-2V5c0-1.1-.9-2-2-2zM9 17H7v-7h2v7zm4 0h-2V7h2v10zm4 0h-2v-4h2v4z\"/>\n",
              "    </g>\n",
              "</svg>\n",
              "  </button>\n",
              "\n",
              "<style>\n",
              "  .colab-df-quickchart {\n",
              "      --bg-color: #E8F0FE;\n",
              "      --fill-color: #1967D2;\n",
              "      --hover-bg-color: #E2EBFA;\n",
              "      --hover-fill-color: #174EA6;\n",
              "      --disabled-fill-color: #AAA;\n",
              "      --disabled-bg-color: #DDD;\n",
              "  }\n",
              "\n",
              "  [theme=dark] .colab-df-quickchart {\n",
              "      --bg-color: #3B4455;\n",
              "      --fill-color: #D2E3FC;\n",
              "      --hover-bg-color: #434B5C;\n",
              "      --hover-fill-color: #FFFFFF;\n",
              "      --disabled-bg-color: #3B4455;\n",
              "      --disabled-fill-color: #666;\n",
              "  }\n",
              "\n",
              "  .colab-df-quickchart {\n",
              "    background-color: var(--bg-color);\n",
              "    border: none;\n",
              "    border-radius: 50%;\n",
              "    cursor: pointer;\n",
              "    display: none;\n",
              "    fill: var(--fill-color);\n",
              "    height: 32px;\n",
              "    padding: 0;\n",
              "    width: 32px;\n",
              "  }\n",
              "\n",
              "  .colab-df-quickchart:hover {\n",
              "    background-color: var(--hover-bg-color);\n",
              "    box-shadow: 0 1px 2px rgba(60, 64, 67, 0.3), 0 1px 3px 1px rgba(60, 64, 67, 0.15);\n",
              "    fill: var(--button-hover-fill-color);\n",
              "  }\n",
              "\n",
              "  .colab-df-quickchart-complete:disabled,\n",
              "  .colab-df-quickchart-complete:disabled:hover {\n",
              "    background-color: var(--disabled-bg-color);\n",
              "    fill: var(--disabled-fill-color);\n",
              "    box-shadow: none;\n",
              "  }\n",
              "\n",
              "  .colab-df-spinner {\n",
              "    border: 2px solid var(--fill-color);\n",
              "    border-color: transparent;\n",
              "    border-bottom-color: var(--fill-color);\n",
              "    animation:\n",
              "      spin 1s steps(1) infinite;\n",
              "  }\n",
              "\n",
              "  @keyframes spin {\n",
              "    0% {\n",
              "      border-color: transparent;\n",
              "      border-bottom-color: var(--fill-color);\n",
              "      border-left-color: var(--fill-color);\n",
              "    }\n",
              "    20% {\n",
              "      border-color: transparent;\n",
              "      border-left-color: var(--fill-color);\n",
              "      border-top-color: var(--fill-color);\n",
              "    }\n",
              "    30% {\n",
              "      border-color: transparent;\n",
              "      border-left-color: var(--fill-color);\n",
              "      border-top-color: var(--fill-color);\n",
              "      border-right-color: var(--fill-color);\n",
              "    }\n",
              "    40% {\n",
              "      border-color: transparent;\n",
              "      border-right-color: var(--fill-color);\n",
              "      border-top-color: var(--fill-color);\n",
              "    }\n",
              "    60% {\n",
              "      border-color: transparent;\n",
              "      border-right-color: var(--fill-color);\n",
              "    }\n",
              "    80% {\n",
              "      border-color: transparent;\n",
              "      border-right-color: var(--fill-color);\n",
              "      border-bottom-color: var(--fill-color);\n",
              "    }\n",
              "    90% {\n",
              "      border-color: transparent;\n",
              "      border-bottom-color: var(--fill-color);\n",
              "    }\n",
              "  }\n",
              "</style>\n",
              "\n",
              "  <script>\n",
              "    async function quickchart(key) {\n",
              "      const quickchartButtonEl =\n",
              "        document.querySelector('#' + key + ' button');\n",
              "      quickchartButtonEl.disabled = true;  // To prevent multiple clicks.\n",
              "      quickchartButtonEl.classList.add('colab-df-spinner');\n",
              "      try {\n",
              "        const charts = await google.colab.kernel.invokeFunction(\n",
              "            'suggestCharts', [key], {});\n",
              "      } catch (error) {\n",
              "        console.error('Error during call to suggestCharts:', error);\n",
              "      }\n",
              "      quickchartButtonEl.classList.remove('colab-df-spinner');\n",
              "      quickchartButtonEl.classList.add('colab-df-quickchart-complete');\n",
              "    }\n",
              "    (() => {\n",
              "      let quickchartButtonEl =\n",
              "        document.querySelector('#df-eb66b1f7-1cff-40a8-9937-7db7b179d04a button');\n",
              "      quickchartButtonEl.style.display =\n",
              "        google.colab.kernel.accessAllowed ? 'block' : 'none';\n",
              "    })();\n",
              "  </script>\n",
              "</div>\n",
              "    </div>\n",
              "  </div>\n"
            ],
            "application/vnd.google.colaboratory.intrinsic+json": {
              "type": "dataframe",
              "variable_name": "all_sent",
              "summary": "{\n  \"name\": \"all_sent\",\n  \"rows\": 500,\n  \"fields\": [\n    {\n      \"column\": \"care_p\",\n      \"properties\": {\n        \"dtype\": \"number\",\n        \"std\": 0.01318776883437969,\n        \"min\": 0.0760937278331915,\n        \"max\": 0.1670530684703367,\n        \"num_unique_values\": 496,\n        \"samples\": [\n          0.1141973254448643,\n          0.1092714765269608,\n          0.1148614141388903\n        ],\n        \"semantic_type\": \"\",\n        \"description\": \"\"\n      }\n    },\n    {\n      \"column\": \"fairness_p\",\n      \"properties\": {\n        \"dtype\": \"number\",\n        \"std\": 0.009823673262422412,\n        \"min\": 0.0682489931183084,\n        \"max\": 0.1352899663913093,\n        \"num_unique_values\": 496,\n        \"samples\": [\n          0.0968247113704807,\n          0.1096673564552906,\n          0.0918680001674823\n        ],\n        \"semantic_type\": \"\",\n        \"description\": \"\"\n      }\n    },\n    {\n      \"column\": \"loyalty_p\",\n      \"properties\": {\n        \"dtype\": \"number\",\n        \"std\": 0.007522405446584682,\n        \"min\": 0.0703029194140779,\n        \"max\": 0.1228901608113463,\n        \"num_unique_values\": 496,\n        \"samples\": [\n          0.0870146273163587,\n          0.0946942652515255,\n          0.1100439055858776\n        ],\n        \"semantic_type\": \"\",\n        \"description\": \"\"\n      }\n    },\n    {\n      \"column\": \"authority_p\",\n      \"properties\": {\n        \"dtype\": \"number\",\n        \"std\": 0.010564035548040772,\n        \"min\": 0.071288585607216,\n        \"max\": 0.1369039979696057,\n        \"num_unique_values\": 496,\n        \"samples\": [\n          0.0944506016568899,\n          0.1023696537372189,\n          0.1187376504310602\n        ],\n        \"semantic_type\": \"\",\n        \"description\": \"\"\n      }\n    },\n    {\n      \"column\": \"sanctity_p\",\n      \"properties\": {\n        \"dtype\": \"number\",\n        \"std\": 0.007712689370711194,\n        \"min\": 0.0646577752498519,\n        \"max\": 0.1106093905302472,\n        \"num_unique_values\": 496,\n        \"samples\": [\n          0.0845687134964585,\n          0.0913571572106999,\n          0.075408582735065\n        ],\n        \"semantic_type\": \"\",\n        \"description\": \"\"\n      }\n    },\n    {\n      \"column\": \"care_sent\",\n      \"properties\": {\n        \"dtype\": \"number\",\n        \"std\": 0.04996756664369273,\n        \"min\": -0.2767494667814811,\n        \"max\": 0.0256949702140386,\n        \"num_unique_values\": 496,\n        \"samples\": [\n          -0.1892689874314348,\n          -0.1455451376069765,\n          -0.2106265557477906\n        ],\n        \"semantic_type\": \"\",\n        \"description\": \"\"\n      }\n    },\n    {\n      \"column\": \"fairness_sent\",\n      \"properties\": {\n        \"dtype\": \"number\",\n        \"std\": 0.04805310467068351,\n        \"min\": -0.2175762525826271,\n        \"max\": 0.0547272396637471,\n        \"num_unique_values\": 496,\n        \"samples\": [\n          -0.1699230458932099,\n          -0.1272742456648878,\n          -0.1431007971688546\n        ],\n        \"semantic_type\": \"\",\n        \"description\": \"\"\n      }\n    },\n    {\n      \"column\": \"loyalty_sent\",\n      \"properties\": {\n        \"dtype\": \"number\",\n        \"std\": 0.04659875452386058,\n        \"min\": -0.1767927912039171,\n        \"max\": 0.0840619957436723,\n        \"num_unique_values\": 496,\n        \"samples\": [\n          -0.1201071377050179,\n          -0.0758606313998413,\n          -0.1170867553217311\n        ],\n        \"semantic_type\": \"\",\n        \"description\": \"\"\n      }\n    },\n    {\n      \"column\": \"authority_sent\",\n      \"properties\": {\n        \"dtype\": \"number\",\n        \"std\": 0.044672337792545265,\n        \"min\": -0.2141048580411137,\n        \"max\": 0.056487067068759,\n        \"num_unique_values\": 496,\n        \"samples\": [\n          -0.116141423613944,\n          -0.0795768111895093,\n          -0.1405299093128367\n        ],\n        \"semantic_type\": \"\",\n        \"description\": \"\"\n      }\n    },\n    {\n      \"column\": \"sanctity_sent\",\n      \"properties\": {\n        \"dtype\": \"number\",\n        \"std\": 0.04679634472622299,\n        \"min\": -0.2157161704536159,\n        \"max\": 0.049456615016423,\n        \"num_unique_values\": 496,\n        \"samples\": [\n          -0.1669435148782421,\n          -0.1065780901238438,\n          -0.1274252573880269\n        ],\n        \"semantic_type\": \"\",\n        \"description\": \"\"\n      }\n    },\n    {\n      \"column\": \"moral_nonmoral_ratio\",\n      \"properties\": {\n        \"dtype\": \"number\",\n        \"std\": 0.4943399019527646,\n        \"min\": 0.5166666666666667,\n        \"max\": 3.445945945945946,\n        \"num_unique_values\": 491,\n        \"samples\": [\n          1.9795918367346936,\n          1.5810810810810811,\n          1.990521327014218\n        ],\n        \"semantic_type\": \"\",\n        \"description\": \"\"\n      }\n    },\n    {\n      \"column\": \"f_var\",\n      \"properties\": {\n        \"dtype\": \"number\",\n        \"std\": 9.020511886617153e-05,\n        \"min\": 1.2795040271077545e-05,\n        \"max\": 0.000952527520326,\n        \"num_unique_values\": 496,\n        \"samples\": [\n          0.0001359753048031,\n          6.926230418177848e-05,\n          0.0003299652774693\n        ],\n        \"semantic_type\": \"\",\n        \"description\": \"\"\n      }\n    },\n    {\n      \"column\": \"sent_var\",\n      \"properties\": {\n        \"dtype\": \"number\",\n        \"std\": 0.0004275159357832358,\n        \"min\": 6.693944100866638e-05,\n        \"max\": 0.0025887983050265,\n        \"num_unique_values\": 496,\n        \"samples\": [\n          0.0010588442513324,\n          0.0009046591972926,\n          0.0013451339303346\n        ],\n        \"semantic_type\": \"\",\n        \"description\": \"\"\n      }\n    }\n  ]\n}"
            }
          },
          "metadata": {},
          "execution_count": 9
        }
      ],
      "source": [
        "# Inspect output\n",
        "all_sent = pd.read_csv('all-sent.csv')\n",
        "all_sent.head()"
      ]
    },
    {
      "cell_type": "markdown",
      "metadata": {
        "id": "tNKh5o29fIMV"
      },
      "source": [
        "As the above dataframe illustrates, each document is assigned 5 foundation probabilities that  \n",
        "denote the average probabilty of each document belonging to one of the five moral foundations and  \n",
        "5 sentiment scores that describe the average sentiment of detected moral words for that foundation.  \n",
        "\n",
        "In addition, eMFDscore always returns the detected moral-to-nonmoral word ratio(`moral_nonmoral_ratio`),  \n",
        "along with the variance across the foundation scores (`f_var`) as well as the variance across the sentiment scores (`sent_var`)."
      ]
    },
    {
      "cell_type": "markdown",
      "metadata": {
        "id": "9Yf1T_sqfIMV"
      },
      "source": [
        "***"
      ]
    },
    {
      "cell_type": "markdown",
      "metadata": {
        "id": "fH0mQXcKfIMV"
      },
      "source": [
        "#### 2. Assign Single Probability per Word and Return Sentiment Scores"
      ]
    },
    {
      "cell_type": "markdown",
      "metadata": {
        "id": "jfzmfJCufIMV"
      },
      "source": [
        "##### Using Python"
      ]
    },
    {
      "cell_type": "code",
      "execution_count": null,
      "metadata": {
        "id": "xblNTfATfIMV",
        "outputId": "4a492137-a728-4ba3-f667-4b325b40b532"
      },
      "outputs": [
        {
          "name": "stderr",
          "output_type": "stream",
          "text": [
            "Processed: 500 100% |❤❤❤❤❤❤❤❤❤❤❤❤❤❤❤❤❤❤❤❤| Elapsed Time: 0:00:41 Time:  0:00:41\n"
          ]
        }
      ],
      "source": [
        "from emfdscore.scoring import score_docs\n",
        "\n",
        "num_docs = len(template_input)\n",
        "\n",
        "DICT_TYPE = 'emfd'\n",
        "PROB_MAP = 'single'\n",
        "SCORE_METHOD = 'bow'\n",
        "OUT_METRICS = 'sentiment'\n",
        "OUT_CSV_PATH = 'single-sent.csv'\n",
        "\n",
        "df = score_docs(template_input,DICT_TYPE,PROB_MAP,SCORE_METHOD,OUT_METRICS,num_docs)\n",
        "df.to_csv(OUT_CSV_PATH, index=False)"
      ]
    },
    {
      "cell_type": "markdown",
      "metadata": {
        "id": "ngDLfsyPfIMV"
      },
      "source": [
        "##### Using the Command Line"
      ]
    },
    {
      "cell_type": "code",
      "execution_count": null,
      "metadata": {
        "id": "noBnQwVefIMW",
        "outputId": "60b892ba-2b31-48c8-b13c-0911d67ce98a"
      },
      "outputs": [
        {
          "name": "stdout",
          "output_type": "stream",
          "text": [
            "Running eMFDscore\n",
            "Total number of input texts to be scored: 500\n",
            "Scoring completed.\n"
          ]
        },
        {
          "name": "stderr",
          "output_type": "stream",
          "text": [
            "Processed: 500 100% |❤❤❤❤❤❤❤❤❤❤❤❤❤❤❤❤❤❤❤❤| Elapsed Time: 0:00:37 Time:  0:00:37\n"
          ]
        }
      ],
      "source": [
        "%%bash\n",
        "emfdscore emfdscore/template_input.csv single-sent.csv bow emfd single sentiment"
      ]
    },
    {
      "cell_type": "code",
      "execution_count": null,
      "metadata": {
        "id": "quqiTVfnfIMW",
        "outputId": "c90fa7e6-04d7-47e7-cc1b-1db85c6d8a4b"
      },
      "outputs": [
        {
          "data": {
            "text/html": [
              "<div>\n",
              "<style scoped>\n",
              "    .dataframe tbody tr th:only-of-type {\n",
              "        vertical-align: middle;\n",
              "    }\n",
              "\n",
              "    .dataframe tbody tr th {\n",
              "        vertical-align: top;\n",
              "    }\n",
              "\n",
              "    .dataframe thead th {\n",
              "        text-align: right;\n",
              "    }\n",
              "</style>\n",
              "<table border=\"1\" class=\"dataframe\">\n",
              "  <thead>\n",
              "    <tr style=\"text-align: right;\">\n",
              "      <th></th>\n",
              "      <th>care_p</th>\n",
              "      <th>fairness_p</th>\n",
              "      <th>loyalty_p</th>\n",
              "      <th>authority_p</th>\n",
              "      <th>sanctity_p</th>\n",
              "      <th>care_sent</th>\n",
              "      <th>fairness_sent</th>\n",
              "      <th>loyalty_sent</th>\n",
              "      <th>authority_sent</th>\n",
              "      <th>sanctity_sent</th>\n",
              "      <th>moral_nonmoral_ratio</th>\n",
              "      <th>f_var</th>\n",
              "      <th>sent_var</th>\n",
              "    </tr>\n",
              "  </thead>\n",
              "  <tbody>\n",
              "    <tr>\n",
              "      <th>0</th>\n",
              "      <td>0.077193</td>\n",
              "      <td>0.027206</td>\n",
              "      <td>0.021363</td>\n",
              "      <td>0.031303</td>\n",
              "      <td>0.002395</td>\n",
              "      <td>-0.083485</td>\n",
              "      <td>-0.009629</td>\n",
              "      <td>0.001919</td>\n",
              "      <td>-0.018307</td>\n",
              "      <td>-0.000161</td>\n",
              "      <td>2.417722</td>\n",
              "      <td>0.000764</td>\n",
              "      <td>0.001249</td>\n",
              "    </tr>\n",
              "    <tr>\n",
              "      <th>1</th>\n",
              "      <td>0.064650</td>\n",
              "      <td>0.016021</td>\n",
              "      <td>0.029611</td>\n",
              "      <td>0.028144</td>\n",
              "      <td>0.002409</td>\n",
              "      <td>-0.083103</td>\n",
              "      <td>-0.002864</td>\n",
              "      <td>-0.010275</td>\n",
              "      <td>-0.015872</td>\n",
              "      <td>-0.001872</td>\n",
              "      <td>1.669903</td>\n",
              "      <td>0.000536</td>\n",
              "      <td>0.001169</td>\n",
              "    </tr>\n",
              "    <tr>\n",
              "      <th>2</th>\n",
              "      <td>0.056653</td>\n",
              "      <td>0.034186</td>\n",
              "      <td>0.025006</td>\n",
              "      <td>0.021561</td>\n",
              "      <td>0.016780</td>\n",
              "      <td>-0.093639</td>\n",
              "      <td>-0.013310</td>\n",
              "      <td>-0.001213</td>\n",
              "      <td>-0.012562</td>\n",
              "      <td>-0.017463</td>\n",
              "      <td>0.791411</td>\n",
              "      <td>0.000249</td>\n",
              "      <td>0.001398</td>\n",
              "    </tr>\n",
              "    <tr>\n",
              "      <th>3</th>\n",
              "      <td>0.024518</td>\n",
              "      <td>0.025494</td>\n",
              "      <td>0.021833</td>\n",
              "      <td>0.041092</td>\n",
              "      <td>0.012537</td>\n",
              "      <td>-0.032878</td>\n",
              "      <td>0.001872</td>\n",
              "      <td>0.004439</td>\n",
              "      <td>0.000244</td>\n",
              "      <td>-0.005171</td>\n",
              "      <td>1.051948</td>\n",
              "      <td>0.000106</td>\n",
              "      <td>0.000233</td>\n",
              "    </tr>\n",
              "    <tr>\n",
              "      <th>4</th>\n",
              "      <td>0.035749</td>\n",
              "      <td>0.028048</td>\n",
              "      <td>0.028456</td>\n",
              "      <td>0.036979</td>\n",
              "      <td>0.006093</td>\n",
              "      <td>-0.032270</td>\n",
              "      <td>-0.018531</td>\n",
              "      <td>0.003611</td>\n",
              "      <td>-0.003783</td>\n",
              "      <td>-0.002514</td>\n",
              "      <td>1.464481</td>\n",
              "      <td>0.000154</td>\n",
              "      <td>0.000212</td>\n",
              "    </tr>\n",
              "  </tbody>\n",
              "</table>\n",
              "</div>"
            ],
            "text/plain": [
              "     care_p  fairness_p  loyalty_p  authority_p  sanctity_p  care_sent  \\\n",
              "0  0.077193    0.027206   0.021363     0.031303    0.002395  -0.083485   \n",
              "1  0.064650    0.016021   0.029611     0.028144    0.002409  -0.083103   \n",
              "2  0.056653    0.034186   0.025006     0.021561    0.016780  -0.093639   \n",
              "3  0.024518    0.025494   0.021833     0.041092    0.012537  -0.032878   \n",
              "4  0.035749    0.028048   0.028456     0.036979    0.006093  -0.032270   \n",
              "\n",
              "   fairness_sent  loyalty_sent  authority_sent  sanctity_sent  \\\n",
              "0      -0.009629      0.001919       -0.018307      -0.000161   \n",
              "1      -0.002864     -0.010275       -0.015872      -0.001872   \n",
              "2      -0.013310     -0.001213       -0.012562      -0.017463   \n",
              "3       0.001872      0.004439        0.000244      -0.005171   \n",
              "4      -0.018531      0.003611       -0.003783      -0.002514   \n",
              "\n",
              "   moral_nonmoral_ratio     f_var  sent_var  \n",
              "0              2.417722  0.000764  0.001249  \n",
              "1              1.669903  0.000536  0.001169  \n",
              "2              0.791411  0.000249  0.001398  \n",
              "3              1.051948  0.000106  0.000233  \n",
              "4              1.464481  0.000154  0.000212  "
            ]
          },
          "execution_count": 8,
          "metadata": {},
          "output_type": "execute_result"
        }
      ],
      "source": [
        "# Inspect output\n",
        "single_sent = pd.read_csv('single-sent.csv')\n",
        "single_sent.head()"
      ]
    },
    {
      "cell_type": "markdown",
      "metadata": {
        "id": "_LZt6D3cfIMW"
      },
      "source": [
        "Here, the returned output is the same as in option (1) above, although every word was assigned  \n",
        "only one probability score when scoring the document."
      ]
    },
    {
      "cell_type": "markdown",
      "metadata": {
        "id": "stEToZgTfIMW"
      },
      "source": [
        "***"
      ]
    },
    {
      "cell_type": "markdown",
      "metadata": {
        "id": "By4IWfVKfIMW"
      },
      "source": [
        "#### 3. Use All Probabilities per Word and Return Vice-Virtue Scores"
      ]
    },
    {
      "cell_type": "markdown",
      "metadata": {
        "id": "2Rm-vnGpfIMW"
      },
      "source": [
        "##### Using Python"
      ]
    },
    {
      "cell_type": "code",
      "execution_count": null,
      "metadata": {
        "id": "3288lISbfIMW",
        "outputId": "0bbc162b-fcd2-4959-fd17-c6da41d760e6"
      },
      "outputs": [
        {
          "name": "stderr",
          "output_type": "stream",
          "text": [
            "Processed: 500 100% |❤❤❤❤❤❤❤❤❤❤❤❤❤❤❤❤❤❤❤❤| Elapsed Time: 0:00:38 Time:  0:00:38\n"
          ]
        }
      ],
      "source": [
        "from emfdscore.scoring import score_docs\n",
        "\n",
        "num_docs = len(template_input)\n",
        "\n",
        "DICT_TYPE = 'emfd'\n",
        "PROB_MAP = 'all'\n",
        "SCORE_METHOD = 'bow'\n",
        "OUT_METRICS = 'vice-virtue'\n",
        "OUT_CSV_PATH = 'all-vv.csv'\n",
        "\n",
        "df = score_docs(template_input,DICT_TYPE,PROB_MAP,SCORE_METHOD,OUT_METRICS,num_docs)\n",
        "df.to_csv(OUT_CSV_PATH, index=False)"
      ]
    },
    {
      "cell_type": "markdown",
      "metadata": {
        "id": "FxTWRwJffIMX"
      },
      "source": [
        "##### Using the Command Line"
      ]
    },
    {
      "cell_type": "code",
      "execution_count": null,
      "metadata": {
        "id": "8t9njqYWfIMX",
        "outputId": "cb9c98e7-e5ee-4420-fafa-ce42b2295029"
      },
      "outputs": [
        {
          "name": "stdout",
          "output_type": "stream",
          "text": [
            "Running eMFDscore\n",
            "Total number of input texts to be scored: 500\n",
            "Scoring completed.\n"
          ]
        },
        {
          "name": "stderr",
          "output_type": "stream",
          "text": [
            "Processed: 500 100% |❤❤❤❤❤❤❤❤❤❤❤❤❤❤❤❤❤❤❤❤| Elapsed Time: 0:00:37 Time:  0:00:37\n"
          ]
        }
      ],
      "source": [
        "%%bash\n",
        "emfdscore emfdscore/template_input.csv all-vv.csv bow emfd all vice-virtue"
      ]
    },
    {
      "cell_type": "code",
      "execution_count": null,
      "metadata": {
        "id": "5iXKwCExfIMX",
        "outputId": "b4fa6439-6e7e-4f8c-83ce-4b21d4d7aa3d"
      },
      "outputs": [
        {
          "data": {
            "text/html": [
              "<div>\n",
              "<style scoped>\n",
              "    .dataframe tbody tr th:only-of-type {\n",
              "        vertical-align: middle;\n",
              "    }\n",
              "\n",
              "    .dataframe tbody tr th {\n",
              "        vertical-align: top;\n",
              "    }\n",
              "\n",
              "    .dataframe thead th {\n",
              "        text-align: right;\n",
              "    }\n",
              "</style>\n",
              "<table border=\"1\" class=\"dataframe\">\n",
              "  <thead>\n",
              "    <tr style=\"text-align: right;\">\n",
              "      <th></th>\n",
              "      <th>care.virtue</th>\n",
              "      <th>fairness.virtue</th>\n",
              "      <th>loyalty.virtue</th>\n",
              "      <th>authority.virtue</th>\n",
              "      <th>sanctity.virtue</th>\n",
              "      <th>care.vice</th>\n",
              "      <th>fairness.vice</th>\n",
              "      <th>loyalty.vice</th>\n",
              "      <th>authority.vice</th>\n",
              "      <th>sanctity.vice</th>\n",
              "      <th>moral_nonmoral_ratio</th>\n",
              "      <th>f_var</th>\n",
              "    </tr>\n",
              "  </thead>\n",
              "  <tbody>\n",
              "    <tr>\n",
              "      <th>0</th>\n",
              "      <td>0.021779</td>\n",
              "      <td>0.021534</td>\n",
              "      <td>0.034007</td>\n",
              "      <td>0.022967</td>\n",
              "      <td>0.019689</td>\n",
              "      <td>0.112803</td>\n",
              "      <td>0.082147</td>\n",
              "      <td>0.063907</td>\n",
              "      <td>0.080426</td>\n",
              "      <td>0.062221</td>\n",
              "      <td>2.417722</td>\n",
              "      <td>0.001079</td>\n",
              "    </tr>\n",
              "    <tr>\n",
              "      <th>1</th>\n",
              "      <td>0.019605</td>\n",
              "      <td>0.029767</td>\n",
              "      <td>0.035892</td>\n",
              "      <td>0.029407</td>\n",
              "      <td>0.027932</td>\n",
              "      <td>0.092908</td>\n",
              "      <td>0.056936</td>\n",
              "      <td>0.053830</td>\n",
              "      <td>0.067442</td>\n",
              "      <td>0.039905</td>\n",
              "      <td>1.669903</td>\n",
              "      <td>0.000504</td>\n",
              "    </tr>\n",
              "    <tr>\n",
              "      <th>2</th>\n",
              "      <td>0.020196</td>\n",
              "      <td>0.028297</td>\n",
              "      <td>0.030178</td>\n",
              "      <td>0.031877</td>\n",
              "      <td>0.025163</td>\n",
              "      <td>0.093601</td>\n",
              "      <td>0.075635</td>\n",
              "      <td>0.063162</td>\n",
              "      <td>0.063838</td>\n",
              "      <td>0.063394</td>\n",
              "      <td>0.791411</td>\n",
              "      <td>0.000644</td>\n",
              "    </tr>\n",
              "    <tr>\n",
              "      <th>3</th>\n",
              "      <td>0.023391</td>\n",
              "      <td>0.037495</td>\n",
              "      <td>0.040412</td>\n",
              "      <td>0.034631</td>\n",
              "      <td>0.028299</td>\n",
              "      <td>0.066477</td>\n",
              "      <td>0.047443</td>\n",
              "      <td>0.045462</td>\n",
              "      <td>0.058114</td>\n",
              "      <td>0.041576</td>\n",
              "      <td>1.051948</td>\n",
              "      <td>0.000168</td>\n",
              "    </tr>\n",
              "    <tr>\n",
              "      <th>4</th>\n",
              "      <td>0.021151</td>\n",
              "      <td>0.033509</td>\n",
              "      <td>0.043392</td>\n",
              "      <td>0.046873</td>\n",
              "      <td>0.022972</td>\n",
              "      <td>0.072061</td>\n",
              "      <td>0.055008</td>\n",
              "      <td>0.050768</td>\n",
              "      <td>0.046851</td>\n",
              "      <td>0.047825</td>\n",
              "      <td>1.464481</td>\n",
              "      <td>0.000229</td>\n",
              "    </tr>\n",
              "  </tbody>\n",
              "</table>\n",
              "</div>"
            ],
            "text/plain": [
              "   care.virtue  fairness.virtue  loyalty.virtue  authority.virtue  \\\n",
              "0     0.021779         0.021534        0.034007          0.022967   \n",
              "1     0.019605         0.029767        0.035892          0.029407   \n",
              "2     0.020196         0.028297        0.030178          0.031877   \n",
              "3     0.023391         0.037495        0.040412          0.034631   \n",
              "4     0.021151         0.033509        0.043392          0.046873   \n",
              "\n",
              "   sanctity.virtue  care.vice  fairness.vice  loyalty.vice  authority.vice  \\\n",
              "0         0.019689   0.112803       0.082147      0.063907        0.080426   \n",
              "1         0.027932   0.092908       0.056936      0.053830        0.067442   \n",
              "2         0.025163   0.093601       0.075635      0.063162        0.063838   \n",
              "3         0.028299   0.066477       0.047443      0.045462        0.058114   \n",
              "4         0.022972   0.072061       0.055008      0.050768        0.046851   \n",
              "\n",
              "   sanctity.vice  moral_nonmoral_ratio     f_var  \n",
              "0       0.062221              2.417722  0.001079  \n",
              "1       0.039905              1.669903  0.000504  \n",
              "2       0.063394              0.791411  0.000644  \n",
              "3       0.041576              1.051948  0.000168  \n",
              "4       0.047825              1.464481  0.000229  "
            ]
          },
          "execution_count": 11,
          "metadata": {},
          "output_type": "execute_result"
        }
      ],
      "source": [
        "# Inspect output\n",
        "all_vv = pd.read_csv('all-vv.csv')\n",
        "all_vv.head()"
      ]
    },
    {
      "cell_type": "markdown",
      "metadata": {
        "id": "jv-y71uHfIMX"
      },
      "source": [
        "As this output illustrates, each document is assigned 10 foundation scores that indicate the degree to which  \n",
        "each document reflects either a `virtue` or a `vice` foundation. In this option, every word in the eMFD is assigned  \n",
        "five probability scores when scoring the document.\n"
      ]
    },
    {
      "cell_type": "markdown",
      "metadata": {
        "id": "8Tywm-pIfIMX"
      },
      "source": [
        "***"
      ]
    },
    {
      "cell_type": "markdown",
      "metadata": {
        "id": "X_P_01cpfIMY"
      },
      "source": [
        "#### 4. Assign Single Probability per Word and Return Vice-Virtue Scores"
      ]
    },
    {
      "cell_type": "markdown",
      "metadata": {
        "id": "_zLAlLHEfIMY"
      },
      "source": [
        "##### Using Python"
      ]
    },
    {
      "cell_type": "code",
      "execution_count": null,
      "metadata": {
        "id": "-bAQ2vKlfIMY",
        "outputId": "eedf4947-7982-4dc0-a362-e8827edf1a58"
      },
      "outputs": [
        {
          "name": "stderr",
          "output_type": "stream",
          "text": [
            "Processed: 500 100% |❤❤❤❤❤❤❤❤❤❤❤❤❤❤❤❤❤❤❤❤| Elapsed Time: 0:00:39 Time:  0:00:39\n"
          ]
        }
      ],
      "source": [
        "from emfdscore.scoring import score_docs\n",
        "\n",
        "num_docs = len(template_input)\n",
        "\n",
        "DICT_TYPE = 'emfd'\n",
        "PROB_MAP = 'single'\n",
        "SCORE_METHOD = 'bow'\n",
        "OUT_METRICS = 'vice-virtue'\n",
        "OUT_CSV_PATH = 'single-vv.csv'\n",
        "\n",
        "df = score_docs(template_input,DICT_TYPE,PROB_MAP,SCORE_METHOD,OUT_METRICS,num_docs)\n",
        "df.to_csv(OUT_CSV_PATH, index=False)"
      ]
    },
    {
      "cell_type": "markdown",
      "metadata": {
        "id": "9juR14i4fIMY"
      },
      "source": [
        "##### Using the Command Line"
      ]
    },
    {
      "cell_type": "code",
      "execution_count": null,
      "metadata": {
        "id": "cB0M_mAMfIMY",
        "outputId": "caa9bd0c-190d-40eb-c073-c9a44b1767d7"
      },
      "outputs": [
        {
          "name": "stdout",
          "output_type": "stream",
          "text": [
            "Running eMFDscore\n",
            "Total number of input texts to be scored: 500\n",
            "Scoring completed.\n"
          ]
        },
        {
          "name": "stderr",
          "output_type": "stream",
          "text": [
            "Processed: 500 100% |❤❤❤❤❤❤❤❤❤❤❤❤❤❤❤❤❤❤❤❤| Elapsed Time: 0:00:37 Time:  0:00:37\n"
          ]
        }
      ],
      "source": [
        "%%bash\n",
        "emfdscore emfdscore/template_input.csv single-vv.csv bow emfd single vice-virtue"
      ]
    },
    {
      "cell_type": "code",
      "execution_count": null,
      "metadata": {
        "id": "TCRf6NCUfIMZ",
        "outputId": "07f5a2aa-ab44-4980-b024-ef167e5b9c5a"
      },
      "outputs": [
        {
          "data": {
            "text/html": [
              "<div>\n",
              "<style scoped>\n",
              "    .dataframe tbody tr th:only-of-type {\n",
              "        vertical-align: middle;\n",
              "    }\n",
              "\n",
              "    .dataframe tbody tr th {\n",
              "        vertical-align: top;\n",
              "    }\n",
              "\n",
              "    .dataframe thead th {\n",
              "        text-align: right;\n",
              "    }\n",
              "</style>\n",
              "<table border=\"1\" class=\"dataframe\">\n",
              "  <thead>\n",
              "    <tr style=\"text-align: right;\">\n",
              "      <th></th>\n",
              "      <th>care.virtue</th>\n",
              "      <th>fairness.virtue</th>\n",
              "      <th>loyalty.virtue</th>\n",
              "      <th>authority.virtue</th>\n",
              "      <th>sanctity.virtue</th>\n",
              "      <th>care.vice</th>\n",
              "      <th>fairness.vice</th>\n",
              "      <th>loyalty.vice</th>\n",
              "      <th>authority.vice</th>\n",
              "      <th>sanctity.vice</th>\n",
              "      <th>moral_nonmoral_ratio</th>\n",
              "      <th>f_var</th>\n",
              "    </tr>\n",
              "  </thead>\n",
              "  <tbody>\n",
              "    <tr>\n",
              "      <th>0</th>\n",
              "      <td>0.010051</td>\n",
              "      <td>0.007087</td>\n",
              "      <td>0.012290</td>\n",
              "      <td>0.006542</td>\n",
              "      <td>0.000785</td>\n",
              "      <td>0.067142</td>\n",
              "      <td>0.020119</td>\n",
              "      <td>0.009073</td>\n",
              "      <td>0.024761</td>\n",
              "      <td>0.001609</td>\n",
              "      <td>2.417722</td>\n",
              "      <td>0.000379</td>\n",
              "    </tr>\n",
              "    <tr>\n",
              "      <th>1</th>\n",
              "      <td>0.005495</td>\n",
              "      <td>0.006633</td>\n",
              "      <td>0.007176</td>\n",
              "      <td>0.006936</td>\n",
              "      <td>0.000807</td>\n",
              "      <td>0.059155</td>\n",
              "      <td>0.009388</td>\n",
              "      <td>0.022435</td>\n",
              "      <td>0.021208</td>\n",
              "      <td>0.001602</td>\n",
              "      <td>1.669903</td>\n",
              "      <td>0.000304</td>\n",
              "    </tr>\n",
              "    <tr>\n",
              "      <th>2</th>\n",
              "      <td>0.002963</td>\n",
              "      <td>0.011010</td>\n",
              "      <td>0.009599</td>\n",
              "      <td>0.005253</td>\n",
              "      <td>0.001987</td>\n",
              "      <td>0.053690</td>\n",
              "      <td>0.023176</td>\n",
              "      <td>0.015406</td>\n",
              "      <td>0.016309</td>\n",
              "      <td>0.014793</td>\n",
              "      <td>0.791411</td>\n",
              "      <td>0.000224</td>\n",
              "    </tr>\n",
              "    <tr>\n",
              "      <th>3</th>\n",
              "      <td>0.003055</td>\n",
              "      <td>0.013070</td>\n",
              "      <td>0.010188</td>\n",
              "      <td>0.013894</td>\n",
              "      <td>0.002241</td>\n",
              "      <td>0.021463</td>\n",
              "      <td>0.012423</td>\n",
              "      <td>0.011644</td>\n",
              "      <td>0.027198</td>\n",
              "      <td>0.010296</td>\n",
              "      <td>1.051948</td>\n",
              "      <td>0.000056</td>\n",
              "    </tr>\n",
              "    <tr>\n",
              "      <th>4</th>\n",
              "      <td>0.008476</td>\n",
              "      <td>0.009681</td>\n",
              "      <td>0.012314</td>\n",
              "      <td>0.022428</td>\n",
              "      <td>0.002606</td>\n",
              "      <td>0.027273</td>\n",
              "      <td>0.018368</td>\n",
              "      <td>0.016142</td>\n",
              "      <td>0.014551</td>\n",
              "      <td>0.003487</td>\n",
              "      <td>1.464481</td>\n",
              "      <td>0.000062</td>\n",
              "    </tr>\n",
              "  </tbody>\n",
              "</table>\n",
              "</div>"
            ],
            "text/plain": [
              "   care.virtue  fairness.virtue  loyalty.virtue  authority.virtue  \\\n",
              "0     0.010051         0.007087        0.012290          0.006542   \n",
              "1     0.005495         0.006633        0.007176          0.006936   \n",
              "2     0.002963         0.011010        0.009599          0.005253   \n",
              "3     0.003055         0.013070        0.010188          0.013894   \n",
              "4     0.008476         0.009681        0.012314          0.022428   \n",
              "\n",
              "   sanctity.virtue  care.vice  fairness.vice  loyalty.vice  authority.vice  \\\n",
              "0         0.000785   0.067142       0.020119      0.009073        0.024761   \n",
              "1         0.000807   0.059155       0.009388      0.022435        0.021208   \n",
              "2         0.001987   0.053690       0.023176      0.015406        0.016309   \n",
              "3         0.002241   0.021463       0.012423      0.011644        0.027198   \n",
              "4         0.002606   0.027273       0.018368      0.016142        0.014551   \n",
              "\n",
              "   sanctity.vice  moral_nonmoral_ratio     f_var  \n",
              "0       0.001609              2.417722  0.000379  \n",
              "1       0.001602              1.669903  0.000304  \n",
              "2       0.014793              0.791411  0.000224  \n",
              "3       0.010296              1.051948  0.000056  \n",
              "4       0.003487              1.464481  0.000062  "
            ]
          },
          "execution_count": 14,
          "metadata": {},
          "output_type": "execute_result"
        }
      ],
      "source": [
        "# Inspect output\n",
        "single_vv = pd.read_csv('single-vv.csv')\n",
        "single_vv.head()"
      ]
    },
    {
      "cell_type": "markdown",
      "metadata": {
        "id": "pLOISrqgfIMZ"
      },
      "source": [
        "This output is similar to option (3), although in this approach, every word in the eMFD was assigned only  \n",
        "one score according to the foundation with the highest probability."
      ]
    },
    {
      "cell_type": "markdown",
      "metadata": {
        "id": "C1VLxFe8fIMZ"
      },
      "source": [
        "***"
      ]
    },
    {
      "cell_type": "markdown",
      "metadata": {
        "id": "I3qJtRIAfIMZ"
      },
      "source": [
        "#### Scoring Documents with the MFD2"
      ]
    },
    {
      "cell_type": "markdown",
      "metadata": {
        "id": "2K4HmBenfIMZ"
      },
      "source": [
        "##### Using Python"
      ]
    },
    {
      "cell_type": "code",
      "execution_count": null,
      "metadata": {
        "id": "I5dVxAbOfIMZ",
        "outputId": "95692771-4857-4b8c-dea1-8744c872e05a"
      },
      "outputs": [
        {
          "name": "stderr",
          "output_type": "stream",
          "text": [
            "Processed: 500 100% |❤❤❤❤❤❤❤❤❤❤❤❤❤❤❤❤❤❤❤❤| Elapsed Time: 0:00:40 Time:  0:00:40\n"
          ]
        }
      ],
      "source": [
        "from emfdscore.scoring import score_docs\n",
        "\n",
        "num_docs = len(template_input)\n",
        "\n",
        "DICT_TYPE = 'mfd2'\n",
        "PROB_MAP = ''\n",
        "SCORE_METHOD = 'bow'\n",
        "OUT_METRICS = ''\n",
        "OUT_CSV_PATH = 'mfd2.csv'\n",
        "\n",
        "df = score_docs(template_input,DICT_TYPE,PROB_MAP,SCORE_METHOD,OUT_METRICS,num_docs)\n",
        "df.to_csv(OUT_CSV_PATH, index=False)"
      ]
    },
    {
      "cell_type": "markdown",
      "metadata": {
        "id": "20SgXJfLfIMa"
      },
      "source": [
        "##### Using the Command Line"
      ]
    },
    {
      "cell_type": "code",
      "execution_count": null,
      "metadata": {
        "id": "-F6C9ubvfIMa",
        "outputId": "fd31cee3-ce7c-42eb-ebc2-4a452c0d7305"
      },
      "outputs": [
        {
          "name": "stdout",
          "output_type": "stream",
          "text": [
            "Running eMFDscore\n",
            "Total number of input texts to be scored: 500\n",
            "Scoring completed.\n"
          ]
        },
        {
          "name": "stderr",
          "output_type": "stream",
          "text": [
            "Processed: 500 100% |❤❤❤❤❤❤❤❤❤❤❤❤❤❤❤❤❤❤❤❤| Elapsed Time: 0:00:38 Time:  0:00:38\n"
          ]
        }
      ],
      "source": [
        "%%bash\n",
        "emfdscore emfdscore/template_input.csv mfd2.csv bow mfd2"
      ]
    },
    {
      "cell_type": "code",
      "execution_count": null,
      "metadata": {
        "id": "NrAvamocfIMa",
        "outputId": "a0d7ecf6-58d3-473e-8d9e-357bc8c1dda1"
      },
      "outputs": [
        {
          "data": {
            "text/html": [
              "<div>\n",
              "<style scoped>\n",
              "    .dataframe tbody tr th:only-of-type {\n",
              "        vertical-align: middle;\n",
              "    }\n",
              "\n",
              "    .dataframe tbody tr th {\n",
              "        vertical-align: top;\n",
              "    }\n",
              "\n",
              "    .dataframe thead th {\n",
              "        text-align: right;\n",
              "    }\n",
              "</style>\n",
              "<table border=\"1\" class=\"dataframe\">\n",
              "  <thead>\n",
              "    <tr style=\"text-align: right;\">\n",
              "      <th></th>\n",
              "      <th>care.virtue</th>\n",
              "      <th>care.vice</th>\n",
              "      <th>authority.virtue</th>\n",
              "      <th>fairness.vice</th>\n",
              "      <th>fairness.virtue</th>\n",
              "      <th>loyalty.vice</th>\n",
              "      <th>loyalty.virtue</th>\n",
              "      <th>sanctity.virtue</th>\n",
              "      <th>authority.vice</th>\n",
              "      <th>sanctity.vice</th>\n",
              "      <th>moral_nonmoral_ratio</th>\n",
              "      <th>f_var</th>\n",
              "    </tr>\n",
              "  </thead>\n",
              "  <tbody>\n",
              "    <tr>\n",
              "      <th>0</th>\n",
              "      <td>0.142857</td>\n",
              "      <td>0.642857</td>\n",
              "      <td>0.071429</td>\n",
              "      <td>0.00</td>\n",
              "      <td>0.000000</td>\n",
              "      <td>0.0</td>\n",
              "      <td>0.071429</td>\n",
              "      <td>0.071429</td>\n",
              "      <td>0.000000</td>\n",
              "      <td>0.0</td>\n",
              "      <td>0.054688</td>\n",
              "      <td>0.038776</td>\n",
              "    </tr>\n",
              "    <tr>\n",
              "      <th>1</th>\n",
              "      <td>0.000000</td>\n",
              "      <td>0.272727</td>\n",
              "      <td>0.454545</td>\n",
              "      <td>0.00</td>\n",
              "      <td>0.000000</td>\n",
              "      <td>0.0</td>\n",
              "      <td>0.272727</td>\n",
              "      <td>0.000000</td>\n",
              "      <td>0.000000</td>\n",
              "      <td>0.0</td>\n",
              "      <td>0.041667</td>\n",
              "      <td>0.028375</td>\n",
              "    </tr>\n",
              "    <tr>\n",
              "      <th>2</th>\n",
              "      <td>0.050000</td>\n",
              "      <td>0.300000</td>\n",
              "      <td>0.100000</td>\n",
              "      <td>0.05</td>\n",
              "      <td>0.100000</td>\n",
              "      <td>0.0</td>\n",
              "      <td>0.200000</td>\n",
              "      <td>0.000000</td>\n",
              "      <td>0.000000</td>\n",
              "      <td>0.2</td>\n",
              "      <td>0.073529</td>\n",
              "      <td>0.010556</td>\n",
              "    </tr>\n",
              "    <tr>\n",
              "      <th>3</th>\n",
              "      <td>0.000000</td>\n",
              "      <td>0.000000</td>\n",
              "      <td>0.333333</td>\n",
              "      <td>0.00</td>\n",
              "      <td>0.000000</td>\n",
              "      <td>0.0</td>\n",
              "      <td>0.444444</td>\n",
              "      <td>0.000000</td>\n",
              "      <td>0.222222</td>\n",
              "      <td>0.0</td>\n",
              "      <td>0.029316</td>\n",
              "      <td>0.028669</td>\n",
              "    </tr>\n",
              "    <tr>\n",
              "      <th>4</th>\n",
              "      <td>0.000000</td>\n",
              "      <td>0.068966</td>\n",
              "      <td>0.517241</td>\n",
              "      <td>0.00</td>\n",
              "      <td>0.034483</td>\n",
              "      <td>0.0</td>\n",
              "      <td>0.379310</td>\n",
              "      <td>0.000000</td>\n",
              "      <td>0.000000</td>\n",
              "      <td>0.0</td>\n",
              "      <td>0.068720</td>\n",
              "      <td>0.035262</td>\n",
              "    </tr>\n",
              "  </tbody>\n",
              "</table>\n",
              "</div>"
            ],
            "text/plain": [
              "   care.virtue  care.vice  authority.virtue  fairness.vice  fairness.virtue  \\\n",
              "0     0.142857   0.642857          0.071429           0.00         0.000000   \n",
              "1     0.000000   0.272727          0.454545           0.00         0.000000   \n",
              "2     0.050000   0.300000          0.100000           0.05         0.100000   \n",
              "3     0.000000   0.000000          0.333333           0.00         0.000000   \n",
              "4     0.000000   0.068966          0.517241           0.00         0.034483   \n",
              "\n",
              "   loyalty.vice  loyalty.virtue  sanctity.virtue  authority.vice  \\\n",
              "0           0.0        0.071429         0.071429        0.000000   \n",
              "1           0.0        0.272727         0.000000        0.000000   \n",
              "2           0.0        0.200000         0.000000        0.000000   \n",
              "3           0.0        0.444444         0.000000        0.222222   \n",
              "4           0.0        0.379310         0.000000        0.000000   \n",
              "\n",
              "   sanctity.vice  moral_nonmoral_ratio     f_var  \n",
              "0            0.0              0.054688  0.038776  \n",
              "1            0.0              0.041667  0.028375  \n",
              "2            0.2              0.073529  0.010556  \n",
              "3            0.0              0.029316  0.028669  \n",
              "4            0.0              0.068720  0.035262  "
            ]
          },
          "execution_count": 17,
          "metadata": {},
          "output_type": "execute_result"
        }
      ],
      "source": [
        "# Inspect output\n",
        "mfd2 = pd.read_csv('mfd2.csv')\n",
        "mfd2.head()"
      ]
    },
    {
      "cell_type": "markdown",
      "metadata": {
        "id": "mhmVxGdFfIMa"
      },
      "source": [
        "As can be seen, the output for the MFD2 is similar to scoring documents with the eMFD  \n",
        "when using the `vice-virtue` output-metric flag."
      ]
    },
    {
      "cell_type": "markdown",
      "metadata": {
        "id": "QzVIMUFGfIMa"
      },
      "source": [
        "***"
      ]
    },
    {
      "cell_type": "markdown",
      "metadata": {
        "id": "wgILO-m4fIMb"
      },
      "source": [
        "#### Scoring Documents with the MFD"
      ]
    },
    {
      "cell_type": "markdown",
      "metadata": {
        "id": "-gql23U1fIMb"
      },
      "source": [
        "##### Using Python"
      ]
    },
    {
      "cell_type": "code",
      "execution_count": null,
      "metadata": {
        "id": "yFn6kVHffIMb",
        "outputId": "4ba561ad-942d-40b2-c9d9-554c4a14050d"
      },
      "outputs": [
        {
          "name": "stderr",
          "output_type": "stream",
          "text": [
            "Processed: 500 100% |❤❤❤❤❤❤❤❤❤❤❤❤❤❤❤❤❤❤❤❤| Elapsed Time: 0:01:08 Time:  0:01:08\n"
          ]
        }
      ],
      "source": [
        "from emfdscore.scoring import score_docs\n",
        "\n",
        "num_docs = len(template_input)\n",
        "\n",
        "DICT_TYPE = 'mfd'\n",
        "PROB_MAP = ''\n",
        "SCORE_METHOD = 'bow'\n",
        "OUT_METRICS = ''\n",
        "OUT_CSV_PATH = 'mfd.csv'\n",
        "\n",
        "df = score_docs(template_input,DICT_TYPE,PROB_MAP,SCORE_METHOD,OUT_METRICS,num_docs)\n",
        "df.to_csv(OUT_CSV_PATH, index=False)"
      ]
    },
    {
      "cell_type": "markdown",
      "metadata": {
        "id": "oP9o8PrqfIMb"
      },
      "source": [
        "##### Using the Command Line"
      ]
    },
    {
      "cell_type": "code",
      "execution_count": null,
      "metadata": {
        "id": "1W0S3LS2fIMb",
        "outputId": "f05d3b50-b514-4fc8-9139-ef9305266472"
      },
      "outputs": [
        {
          "name": "stdout",
          "output_type": "stream",
          "text": [
            "Running eMFDscore\n",
            "Total number of input texts to be scored: 500\n",
            "Scoring completed.\n"
          ]
        },
        {
          "name": "stderr",
          "output_type": "stream",
          "text": [
            "Processed: 500 100% |❤❤❤❤❤❤❤❤❤❤❤❤❤❤❤❤❤❤❤❤| Elapsed Time: 0:01:06 Time:  0:01:06\n"
          ]
        }
      ],
      "source": [
        "%%bash\n",
        "emfdscore emfdscore/template_input.csv mfd.csv bow mfd"
      ]
    },
    {
      "cell_type": "code",
      "execution_count": null,
      "metadata": {
        "id": "csgLrTvffIMc",
        "outputId": "934be782-b578-4074-cb66-f18c1f5b4856"
      },
      "outputs": [
        {
          "data": {
            "text/html": [
              "<div>\n",
              "<style scoped>\n",
              "    .dataframe tbody tr th:only-of-type {\n",
              "        vertical-align: middle;\n",
              "    }\n",
              "\n",
              "    .dataframe tbody tr th {\n",
              "        vertical-align: top;\n",
              "    }\n",
              "\n",
              "    .dataframe thead th {\n",
              "        text-align: right;\n",
              "    }\n",
              "</style>\n",
              "<table border=\"1\" class=\"dataframe\">\n",
              "  <thead>\n",
              "    <tr style=\"text-align: right;\">\n",
              "      <th></th>\n",
              "      <th>care.virtue</th>\n",
              "      <th>fairness.virtue</th>\n",
              "      <th>loyalty.virtue</th>\n",
              "      <th>authority.virtue</th>\n",
              "      <th>sanctity.virtue</th>\n",
              "      <th>care.vice</th>\n",
              "      <th>fairness.vice</th>\n",
              "      <th>loyalty.vice</th>\n",
              "      <th>authority.vice</th>\n",
              "      <th>sanctity.vice</th>\n",
              "      <th>moral</th>\n",
              "      <th>moral_nonmoral_ratio</th>\n",
              "      <th>f_var</th>\n",
              "    </tr>\n",
              "  </thead>\n",
              "  <tbody>\n",
              "    <tr>\n",
              "      <th>0</th>\n",
              "      <td>0.166667</td>\n",
              "      <td>0.083333</td>\n",
              "      <td>0.000</td>\n",
              "      <td>0.000</td>\n",
              "      <td>0.0</td>\n",
              "      <td>0.583333</td>\n",
              "      <td>0.00</td>\n",
              "      <td>0.083333</td>\n",
              "      <td>0.000000</td>\n",
              "      <td>0.000</td>\n",
              "      <td>0.083333</td>\n",
              "      <td>0.046512</td>\n",
              "      <td>0.033102</td>\n",
              "    </tr>\n",
              "    <tr>\n",
              "      <th>1</th>\n",
              "      <td>0.125000</td>\n",
              "      <td>0.000000</td>\n",
              "      <td>0.250</td>\n",
              "      <td>0.500</td>\n",
              "      <td>0.0</td>\n",
              "      <td>0.125000</td>\n",
              "      <td>0.00</td>\n",
              "      <td>0.000000</td>\n",
              "      <td>0.000000</td>\n",
              "      <td>0.000</td>\n",
              "      <td>0.000000</td>\n",
              "      <td>0.029963</td>\n",
              "      <td>0.027083</td>\n",
              "    </tr>\n",
              "    <tr>\n",
              "      <th>2</th>\n",
              "      <td>0.000000</td>\n",
              "      <td>0.125000</td>\n",
              "      <td>0.125</td>\n",
              "      <td>0.125</td>\n",
              "      <td>0.0</td>\n",
              "      <td>0.500000</td>\n",
              "      <td>0.00</td>\n",
              "      <td>0.000000</td>\n",
              "      <td>0.000000</td>\n",
              "      <td>0.125</td>\n",
              "      <td>0.000000</td>\n",
              "      <td>0.028169</td>\n",
              "      <td>0.023611</td>\n",
              "    </tr>\n",
              "    <tr>\n",
              "      <th>3</th>\n",
              "      <td>0.000000</td>\n",
              "      <td>0.000000</td>\n",
              "      <td>0.500</td>\n",
              "      <td>0.250</td>\n",
              "      <td>0.0</td>\n",
              "      <td>0.083333</td>\n",
              "      <td>0.00</td>\n",
              "      <td>0.000000</td>\n",
              "      <td>0.083333</td>\n",
              "      <td>0.000</td>\n",
              "      <td>0.083333</td>\n",
              "      <td>0.039474</td>\n",
              "      <td>0.026929</td>\n",
              "    </tr>\n",
              "    <tr>\n",
              "      <th>4</th>\n",
              "      <td>0.160000</td>\n",
              "      <td>0.000000</td>\n",
              "      <td>0.360</td>\n",
              "      <td>0.240</td>\n",
              "      <td>0.0</td>\n",
              "      <td>0.120000</td>\n",
              "      <td>0.04</td>\n",
              "      <td>0.000000</td>\n",
              "      <td>0.040000</td>\n",
              "      <td>0.000</td>\n",
              "      <td>0.080000</td>\n",
              "      <td>0.058685</td>\n",
              "      <td>0.015360</td>\n",
              "    </tr>\n",
              "  </tbody>\n",
              "</table>\n",
              "</div>"
            ],
            "text/plain": [
              "   care.virtue  fairness.virtue  loyalty.virtue  authority.virtue  \\\n",
              "0     0.166667         0.083333           0.000             0.000   \n",
              "1     0.125000         0.000000           0.250             0.500   \n",
              "2     0.000000         0.125000           0.125             0.125   \n",
              "3     0.000000         0.000000           0.500             0.250   \n",
              "4     0.160000         0.000000           0.360             0.240   \n",
              "\n",
              "   sanctity.virtue  care.vice  fairness.vice  loyalty.vice  authority.vice  \\\n",
              "0              0.0   0.583333           0.00      0.083333        0.000000   \n",
              "1              0.0   0.125000           0.00      0.000000        0.000000   \n",
              "2              0.0   0.500000           0.00      0.000000        0.000000   \n",
              "3              0.0   0.083333           0.00      0.000000        0.083333   \n",
              "4              0.0   0.120000           0.04      0.000000        0.040000   \n",
              "\n",
              "   sanctity.vice     moral  moral_nonmoral_ratio     f_var  \n",
              "0          0.000  0.083333              0.046512  0.033102  \n",
              "1          0.000  0.000000              0.029963  0.027083  \n",
              "2          0.125  0.000000              0.028169  0.023611  \n",
              "3          0.000  0.083333              0.039474  0.026929  \n",
              "4          0.000  0.080000              0.058685  0.015360  "
            ]
          },
          "execution_count": 20,
          "metadata": {},
          "output_type": "execute_result"
        }
      ],
      "source": [
        "# Inspect output\n",
        "mfd = pd.read_csv('mfd.csv')\n",
        "mfd.head()"
      ]
    },
    {
      "cell_type": "markdown",
      "metadata": {
        "id": "sqiW0GKDfIMc"
      },
      "source": [
        "Likewise, the output for the MFD is in the same format as for the MFD2.0, except that  \n",
        "the MFD also has a category `moral` under which general moral words are grouped."
      ]
    },
    {
      "cell_type": "markdown",
      "metadata": {
        "id": "hMYW6n2xfIMc"
      },
      "source": [
        "***"
      ]
    },
    {
      "cell_type": "markdown",
      "metadata": {
        "id": "igSpprzyfIMc"
      },
      "source": [
        "### Questions or Concerns?"
      ]
    },
    {
      "cell_type": "markdown",
      "metadata": {
        "id": "xwETr2IGfIMc"
      },
      "source": [
        "For any questions or concerns, please open an [issue](https://github.com/medianeuroscience/emfdscore/issues) on the Github repository.  "
      ]
    }
  ],
  "metadata": {
    "kernelspec": {
      "display_name": "Python 3",
      "language": "python",
      "name": "python3"
    },
    "language_info": {
      "codemirror_mode": {
        "name": "ipython",
        "version": 3
      },
      "file_extension": ".py",
      "mimetype": "text/x-python",
      "name": "python",
      "nbconvert_exporter": "python",
      "pygments_lexer": "ipython3",
      "version": "3.7.10"
    },
    "colab": {
      "provenance": []
    }
  },
  "nbformat": 4,
  "nbformat_minor": 0
}